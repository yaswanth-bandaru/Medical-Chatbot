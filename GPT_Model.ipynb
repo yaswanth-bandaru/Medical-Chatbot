{
 "cells": [
  {
   "cell_type": "code",
   "execution_count": null,
   "metadata": {
    "colab": {
     "base_uri": "https://localhost:8080/"
    },
    "id": "yItkaSyx1n1w",
    "outputId": "2219f3b7-442b-42aa-833a-b3ed2d599bb9"
   },
   "outputs": [
    {
     "name": "stdout",
     "output_type": "stream",
     "text": [
      "Drive already mounted at /content/drive; to attempt to forcibly remount, call drive.mount(\"/content/drive\", force_remount=True).\n"
     ]
    }
   ],
   "source": [
    "from google.colab import drive\n",
    "drive.mount('/content/drive')"
   ]
  },
  {
   "cell_type": "code",
   "execution_count": null,
   "metadata": {
    "id": "hFIqnFf41taC"
   },
   "outputs": [],
   "source": [
    "#setting os path\n",
    "import os\n",
    "os.chdir('/content/drive/MyDrive/ChatBot/Data')"
   ]
  },
  {
   "cell_type": "code",
   "execution_count": null,
   "metadata": {
    "id": "oFqKdxcc1yfj"
   },
   "outputs": [],
   "source": [
    "#importing necessary libraries\n",
    "import pandas as pd\n",
    "import numpy as np\n",
    "import tensorflow as tf"
   ]
  },
  {
   "cell_type": "code",
   "execution_count": null,
   "metadata": {
    "id": "zSPFFsCq10v9"
   },
   "outputs": [],
   "source": [
    "#loading question and answer embeddings of train and validation data from disk\n",
    "train_embeds=pd.read_csv('re_train_embeds.csv')\n",
    "validation_embeds=pd.read_csv('re_validation_embeds.csv')"
   ]
  },
  {
   "cell_type": "code",
   "execution_count": null,
   "metadata": {
    "id": "Gotv8MSb13C3"
   },
   "outputs": [],
   "source": [
    "#function to preprocess question and answer embeddings post loading from disk\n",
    "def preprocess_embeds(embed):\n",
    "  output=[]\n",
    "  embed=embed[2:-2]\n",
    "  embed=embed.replace('\\n','')\n",
    "  for i in embed.split(' '):\n",
    "    if i!=' ' and i!='':\n",
    "      output.append(i)\n",
    "  return (output)"
   ]
  },
  {
   "cell_type": "code",
   "execution_count": null,
   "metadata": {
    "colab": {
     "base_uri": "https://localhost:8080/",
     "height": 168,
     "referenced_widgets": [
      "9e34ed59bb58411497885201ba8568b0",
      "7c078537eca84b85aae0ccb1e32027e9",
      "b004a5f6fb3242718b0ba88a0091544e",
      "322996f04f2c4c07aefc3ecaeb294bcf",
      "a185e21c3d4543ab90396302fa724647",
      "7c83c02c7fa64084bce3bce7e6faf28a",
      "6df1e7b1b8a645c6bf16addde95c314a",
      "866774806f1142b5a214d04fc118ea0f",
      "d1594daa1a414166b73b9f8461cf9a31",
      "b3abb6b0963e4186b02ed397e6427937",
      "4a5dc916449d4b9aac7e4757c0b04ada",
      "4db751019200481c8677dff7b44617d0",
      "a3db468c43b94d4187c43d1b56af5e6d",
      "8e60e9628d4e4fcb95e038b8c9ecc7fb",
      "67f9b4720ee64a44ae3ca5b6357dcd36",
      "0e765284ddba47ebae880a9fc2f6f753"
     ]
    },
    "id": "tty9iRYU15Rz",
    "outputId": "79ebfecf-e57c-4f0a-f156-b00edd70cacc"
   },
   "outputs": [
    {
     "name": "stderr",
     "output_type": "stream",
     "text": [
      "/usr/local/lib/python3.7/dist-packages/tqdm/std.py:658: FutureWarning: The Panel class is removed from pandas. Accessing it from the top-level namespace will also be removed in the next version\n",
      "  from pandas import Panel\n"
     ]
    },
    {
     "data": {
      "application/vnd.jupyter.widget-view+json": {
       "model_id": "9e34ed59bb58411497885201ba8568b0",
       "version_major": 2,
       "version_minor": 0
      },
      "text/plain": [
       "HBox(children=(FloatProgress(value=0.0, max=23802.0), HTML(value='')))"
      ]
     },
     "metadata": {
      "tags": []
     },
     "output_type": "display_data"
    },
    {
     "name": "stdout",
     "output_type": "stream",
     "text": [
      "\n"
     ]
    },
    {
     "data": {
      "application/vnd.jupyter.widget-view+json": {
       "model_id": "d1594daa1a414166b73b9f8461cf9a31",
       "version_major": 2,
       "version_minor": 0
      },
      "text/plain": [
       "HBox(children=(FloatProgress(value=0.0, max=23802.0), HTML(value='')))"
      ]
     },
     "metadata": {
      "tags": []
     },
     "output_type": "display_data"
    },
    {
     "name": "stdout",
     "output_type": "stream",
     "text": [
      "\n"
     ]
    }
   ],
   "source": [
    "#preprocessing embeddings post loading from disk for train data\n",
    "from tqdm.notebook import tqdm\n",
    "tqdm.pandas()\n",
    "train_embeds['question_embeds']=train_embeds.short_question_embed_numpy.progress_apply(lambda x: preprocess_embeds(x))\n",
    "train_embeds['answer_embeds']=train_embeds.short_answer_embed_numpy.progress_apply(lambda x: preprocess_embeds(x))"
   ]
  },
  {
   "cell_type": "code",
   "execution_count": null,
   "metadata": {
    "colab": {
     "base_uri": "https://localhost:8080/",
     "height": 114,
     "referenced_widgets": [
      "399c8ab0edc74cb09a0d46ef4b22b14d",
      "85908616a6014fb4b29a40f846df83d5",
      "fa362dc6e9474711a2ff3d9cb10f5139",
      "88f93a7a972d4959972d18f033f4a514",
      "fac5954ff9884bc896ac89fe69c162f3",
      "7d1ab512020e4f7fb28a6d6b33a1694e",
      "8f38abc00f2b4d3e8039a749aa07549a",
      "e48a72097f464106b110b963e0658b3a",
      "baaa491c340741d2b9de1eafef70a7fc",
      "ff25c30b18bc4d0885d8fcde39da1152",
      "78a28b52b02a40d690ee302d9788559b",
      "1a339d36c1ad4ebebf44ee491b2ce73d",
      "8cfe393e01574e5fa810ecb572f46d91",
      "b5155b31da344069a5687207b858212e",
      "9b1b7f91cfb54cc3be931c1c68e83aba",
      "ec284cbe762d47b585838b944dc5c922"
     ]
    },
    "id": "BMy0_h4O17-y",
    "outputId": "0088f928-6be7-41b1-93cf-5bda3e2fff63"
   },
   "outputs": [
    {
     "data": {
      "application/vnd.jupyter.widget-view+json": {
       "model_id": "399c8ab0edc74cb09a0d46ef4b22b14d",
       "version_major": 2,
       "version_minor": 0
      },
      "text/plain": [
       "HBox(children=(FloatProgress(value=0.0, max=5950.0), HTML(value='')))"
      ]
     },
     "metadata": {
      "tags": []
     },
     "output_type": "display_data"
    },
    {
     "name": "stdout",
     "output_type": "stream",
     "text": [
      "\n"
     ]
    },
    {
     "data": {
      "application/vnd.jupyter.widget-view+json": {
       "model_id": "baaa491c340741d2b9de1eafef70a7fc",
       "version_major": 2,
       "version_minor": 0
      },
      "text/plain": [
       "HBox(children=(FloatProgress(value=0.0, max=5950.0), HTML(value='')))"
      ]
     },
     "metadata": {
      "tags": []
     },
     "output_type": "display_data"
    },
    {
     "name": "stdout",
     "output_type": "stream",
     "text": [
      "\n"
     ]
    }
   ],
   "source": [
    "#preprocessing embeddings post loading from validation data\n",
    "validation_embeds['question_embeds']=validation_embeds.short_question_embed_numpy.progress_apply(lambda x: preprocess_embeds(x))\n",
    "validation_embeds['answer_embeds']=validation_embeds.short_answer_embed_numpy.progress_apply(lambda x: preprocess_embeds(x))"
   ]
  },
  {
   "cell_type": "code",
   "execution_count": null,
   "metadata": {
    "id": "GLQZoD2T1-wN"
   },
   "outputs": [],
   "source": [
    "#function to l2 normalize each embedding\n",
    "def normalize(x):\n",
    "  x=np.array(x,dtype=np.float64)\n",
    "  return (x)/(np.linalg.norm(x))"
   ]
  },
  {
   "cell_type": "code",
   "execution_count": null,
   "metadata": {
    "id": "Iovzhvj82BtQ"
   },
   "outputs": [],
   "source": [
    "#normalizing train question and answer embeddings\n",
    "train_embeds['question_embeds_norm']=train_embeds['question_embeds'].apply(lambda x: normalize(x))\n",
    "train_embeds['answer_embeds_norm']=train_embeds['answer_embeds'].apply(lambda x: normalize(x))"
   ]
  },
  {
   "cell_type": "code",
   "execution_count": null,
   "metadata": {
    "id": "NDGAyUgp2E9p"
   },
   "outputs": [],
   "source": [
    "#normalizing validation question and answer embeddings\n",
    "validation_embeds['question_embeds_norm']=validation_embeds['question_embeds'].apply(lambda x: normalize(x))\n",
    "validation_embeds['answer_embeds_norm']=validation_embeds['answer_embeds'].apply(lambda x: normalize(x))"
   ]
  },
  {
   "cell_type": "code",
   "execution_count": 2,
   "metadata": {
    "colab": {
     "base_uri": "https://localhost:8080/",
     "height": 142
    },
    "id": "wruJlQ6E2IoL",
    "outputId": "e7ae4cb6-ebb4-4026-f4bc-f4567b291217"
   },
   "outputs": [],
   "source": [
    "#Cleaning the gpt train data\n",
    "train_gpt_data=train_embeds[['short_question','short_answer','question_embeds_norm','answer_embeds_norm']].copy()\n",
    "train_gpt_data.columns=['question','answer','Q_FFNN_embeds','A_FFNN_embeds']\n",
    "train_gpt_data.head(3)"
   ]
  },
  {
   "cell_type": "code",
   "execution_count": null,
   "metadata": {
    "id": "XNAXOO4rcmDk"
   },
   "outputs": [],
   "source": [
    "os.chdir('/content/drive/MyDrive/ChatBot/Data/gpt')"
   ]
  },
  {
   "cell_type": "code",
   "execution_count": null,
   "metadata": {
    "id": "7TiHmbKE2OVu"
   },
   "outputs": [],
   "source": [
    "#saving gpt training data to disk\n",
    "train_gpt_data.to_pickle(\"./train_gpt_data.pkl\")"
   ]
  },
  {
   "cell_type": "code",
   "execution_count": 3,
   "metadata": {
    "colab": {
     "base_uri": "https://localhost:8080/",
     "height": 142
    },
    "id": "tInJC4Dv2QqW",
    "outputId": "a07e07c9-b5c6-4d6c-e2e7-afd5eaa26887"
   },
   "outputs": [],
   "source": [
    "#cleaning gpt validation data\n",
    "validation_gpt_data=validation_embeds[['short_question','short_answer','question_embeds_norm','answer_embeds_norm']].copy()\n",
    "validation_gpt_data.columns=['question','answer','Q_FFNN_embeds','A_FFNN_embeds']\n",
    "validation_gpt_data.head(3)"
   ]
  },
  {
   "cell_type": "code",
   "execution_count": null,
   "metadata": {
    "id": "ZQW28_u-2TTp"
   },
   "outputs": [],
   "source": [
    "#saving the gpt validation data to disk\n",
    "validation_gpt_data.to_pickle(\"./validation_gpt_data.pkl\")"
   ]
  },
  {
   "cell_type": "code",
   "execution_count": null,
   "metadata": {
    "id": "EqiXdLL22Vmp"
   },
   "outputs": [],
   "source": [
    "#loading train and validation gpt data from disk\n",
    "train_gpt_data=pd.read_pickle('./train_gpt_data.pkl')\n",
    "validation_gpt_data=pd.read_pickle('./validation_gpt_data.pkl')"
   ]
  },
  {
   "cell_type": "code",
   "execution_count": 4,
   "metadata": {
    "colab": {
     "base_uri": "https://localhost:8080/"
    },
    "id": "7SmGsusp2XlG",
    "outputId": "11368fa7-e4f6-42da-a0d7-dbe475ce87f2"
   },
   "outputs": [],
   "source": [
    "#Getting similar question and preparing actual gpt input\n",
    "#installing faiss and other required libraries\n",
    "!wget  https://anaconda.org/pytorch/faiss-gpu/1.2.1/download/linux-64/faiss-cpu-1.2.1-py36_cuda9.0.176_1.tar.bz2\n",
    "!tar xvjf faiss-cpu-1.2.1-py36_cuda9.0.176_1.tar.bz2\n",
    "!cp -r lib/python3.6/site-packages/* /usr/local/lib/python3.6/dist-packages/\n",
    "!pip install mkl"
   ]
  },
  {
   "cell_type": "code",
   "execution_count": 5,
   "metadata": {
    "colab": {
     "base_uri": "https://localhost:8080/"
    },
    "id": "MJcFm94G96hO",
    "outputId": "5f67b0c3-ccdd-4f96-9dfd-e2e139d45bcc"
   },
   "outputs": [],
   "source": [
    "!pip install faiss-gpu"
   ]
  },
  {
   "cell_type": "code",
   "execution_count": 6,
   "metadata": {
    "colab": {
     "base_uri": "https://localhost:8080/"
    },
    "id": "vlDRmvFnixtE",
    "outputId": "86a033d3-6da3-4c46-adb7-d0a1685c8348"
   },
   "outputs": [],
   "source": [
    "!pip install transformers"
   ]
  },
  {
   "cell_type": "code",
   "execution_count": null,
   "metadata": {
    "id": "8V1nsKsg2dyg"
   },
   "outputs": [],
   "source": [
    "import os\n",
    "import csv\n",
    "from tqdm import tqdm\n",
    "import argparse\n",
    "from glob import glob\n",
    "import faiss\n",
    "from multiprocessing import Pool, cpu_count\n",
    "from math import ceil\n",
    "from collections import defaultdict\n",
    "\n",
    "#creating faiss index for semantic search \n",
    "#https://github.com/ash3n/DocProduct/blob/master/docproduct/train_embedding_to_gpt2_data.py\n",
    "qa = pd.read_pickle('./train_gpt_data.pkl')\n",
    "question_bert = qa[\"Q_FFNN_embeds\"].tolist()\n",
    "answer_bert = qa[\"A_FFNN_embeds\"].tolist()\n",
    "question_bert = np.array(question_bert)\n",
    "answer_bert = np.array(answer_bert)\n",
    "\n",
    "question_bert = question_bert.astype('float32')\n",
    "answer_bert = answer_bert.astype('float32')\n",
    "answer_index = faiss.IndexFlatIP(answer_bert.shape[-1])\n",
    "answer_index.add(answer_bert)"
   ]
  },
  {
   "cell_type": "code",
   "execution_count": null,
   "metadata": {
    "id": "iwOqsHfGfHn6"
   },
   "outputs": [],
   "source": [
    "topk=20\n",
    "scores,indices=answer_index.search(\n",
    "              np.array([qa['Q_FFNN_embeds'][1]]).astype('float32'), topk)\n",
    "q_sub=qa.iloc[indices.reshape(20)]\n",
    "\n",
    "line = '`QUESTION: %s `ANSWER: %s' % (\n",
    "                    qa.question[1], qa.answer[1])"
   ]
  },
  {
   "cell_type": "code",
   "execution_count": null,
   "metadata": {
    "id": "ujBvq7ohf5C3"
   },
   "outputs": [],
   "source": [
    "for i in q_sub.iterrows():\n",
    "    line='`QUESTION: %s `ANSWER: %s ' % (i[1]['question'],i[1]['answer']) + line\n",
    "    line=line.replace('\\n','')"
   ]
  },
  {
   "cell_type": "code",
   "execution_count": null,
   "metadata": {
    "id": "GYZ80caJEYcp"
   },
   "outputs": [],
   "source": [
    "from transformers import GPT2Tokenizer,TFGPT2LMHeadModel\n",
    "tokenizer=GPT2Tokenizer.from_pretrained(\"gpt2\")"
   ]
  },
  {
   "cell_type": "code",
   "execution_count": null,
   "metadata": {
    "id": "WaG_bErG2gpd"
   },
   "outputs": [],
   "source": [
    "#defining function to prepare the actual gpt training data by retrieving similar question and answer pairs\n",
    "#https://github.com/ash3n/DocProduct/blob/master/docproduct/train_embedding_to_gpt2_data.py\n",
    "\n",
    "# from transformers import BertTokenizer\n",
    "# tokenizer = BertTokenizer.from_pretrained(\"cambridgeltl/BioRedditBERT-uncased\")\n",
    "\n",
    "from transformers import GPT2Tokenizer,TFGPT2LMHeadModel\n",
    "tokenizer=GPT2Tokenizer.from_pretrained(\"gpt2\")\n",
    "def preparing_gpt_training_data(question,answer,question_embedding):\n",
    "  topk=20\n",
    "  scores,indices=answer_index.search(\n",
    "                  np.array([question_embedding]).astype('float32'), topk)\n",
    "  q_sub=qa.iloc[indices.reshape(20)]\n",
    "  \n",
    "  line = '`QUESTION: %s `ANSWER: %s' % (\n",
    "                        question, answer)\n",
    "  encoded_len=len(tokenizer.encode(line))\n",
    "  for i in q_sub.iterrows():\n",
    "    line='`QUESTION: %s `ANSWER: %s ' % (i[1]['question'],i[1]['answer']) + line\n",
    "    line=line.replace('\\n','')\n",
    "    encoded_len=len(tokenizer.encode(line))\n",
    "    if encoded_len>=1024:\n",
    "      break\n",
    "  return tokenizer.encode(line)[-1024:]"
   ]
  },
  {
   "cell_type": "code",
   "execution_count": 7,
   "metadata": {
    "colab": {
     "base_uri": "https://localhost:8080/",
     "height": 82,
     "referenced_widgets": [
      "b12cb64053d842d38fd6ead41c82db55",
      "7a41faee812d4244855e2f953ffd59f5",
      "b633c3d45c8a4403ad182d3f7f002ef1",
      "5f12b40490534661860f8695dc399be1",
      "01bbe15f508447939d161f7d0d092091",
      "bb76a0bb5dd74951ae8d8e905fe14bbe",
      "1cc35afa713b4d1697ff259a267a661c",
      "b214f90fcafc4cca8c694697d3a9c935"
     ]
    },
    "id": "TNwe1Tu_2jUF",
    "outputId": "d06bca33-c289-48a6-efde-61e93cd57aa6"
   },
   "outputs": [],
   "source": [
    "#preparing the gpt data for the training data\n",
    "qa['gpt_data']=qa.progress_apply(lambda x: preparing_gpt_training_data(x.question,x.answer,x.Q_FFNN_embeds),axis=1)"
   ]
  },
  {
   "cell_type": "code",
   "execution_count": 8,
   "metadata": {
    "colab": {
     "base_uri": "https://localhost:8080/",
     "height": 66,
     "referenced_widgets": [
      "75df428c55fb417a9fc6ee224b29d71f",
      "9ddd8b7e0ccc492c859abb97185c01be",
      "b27515bcf1e5438191573c170abcd954",
      "bafaa11a05124cadaf19211196664d6e",
      "1234bbe2ae46418e885a82ce4258bb6b",
      "6806000db46349fcbe165afbcc2a43bd",
      "08db9b67bef24f4c95186436ee0d03db",
      "cf09e830a8934f12b3141725704ebd42"
     ]
    },
    "id": "SnmZx77x2miI",
    "outputId": "ca0fc46d-576b-4c04-8afe-c283737b8ab4"
   },
   "outputs": [],
   "source": [
    "#preparing the gpt data for the validation data\n",
    "validation_gpt_data['gpt_data']=validation_gpt_data.progress_apply(lambda x: preparing_gpt_training_data(x.question,x.answer,x.Q_FFNN_embeds),axis=1)"
   ]
  },
  {
   "cell_type": "code",
   "execution_count": null,
   "metadata": {
    "id": "fH9QrCbA2o5v"
   },
   "outputs": [],
   "source": [
    "#function to get the start of positive mask to be used while creating the masks\n",
    "def mask_start(gpt_data):\n",
    "    return 1024-gpt_data[::-1].index(4600)+1"
   ]
  },
  {
   "cell_type": "code",
   "execution_count": 9,
   "metadata": {
    "colab": {
     "base_uri": "https://localhost:8080/",
     "height": 66,
     "referenced_widgets": [
      "7040346148f9469cbc64f31321ac8de2",
      "6c58aa138acf4ee09e1057aaa63f689f",
      "39d064318fba478ab70d8add7283f0bd",
      "08afbc1f7e304a0189a886cff0d11644",
      "47e234e94ff54112b1027e846b40c3c7",
      "43efa1c816e341edae986ee1b9fbf7e4",
      "88b98d3f951d4b598992505acd5afccf",
      "ea7f47fac7184e15aef8c23cb90d1340"
     ]
    },
    "id": "XULzAQsI2rQU",
    "outputId": "b8a028b8-1db5-441d-828e-d46bef3cb129"
   },
   "outputs": [],
   "source": [
    "#finding the mask start for the train dataset\n",
    "qa['mask_start']=qa.gpt_data.progress_apply(lambda x: mask_start(x))"
   ]
  },
  {
   "cell_type": "code",
   "execution_count": 10,
   "metadata": {
    "colab": {
     "base_uri": "https://localhost:8080/",
     "height": 66,
     "referenced_widgets": [
      "892e9d7d43ac4d319f71270106fa2f56",
      "60feccfae9924810bedee359c8636ba6",
      "cdf81b263d2a4fedb2d6f0e72d549567",
      "7aad7c80a12947a78f16fb87df8b723f",
      "c17058b946dd47f6a0ae744e89ac94ab",
      "553f86828f944c4e97ae99345f6e8388",
      "47838997dbce46d8bd928d12aca17b6f",
      "b27966b4967d46ebb4d71371704a1097"
     ]
    },
    "id": "VaNoiXr82tbN",
    "outputId": "91e4eca9-dc7a-4e5c-f6fc-a6ff92932b83"
   },
   "outputs": [],
   "source": [
    "#finding the mask start for the validation dataset\n",
    "validation_gpt_data['mask_start']=validation_gpt_data.gpt_data.progress_apply(lambda x: mask_start(x))"
   ]
  },
  {
   "cell_type": "code",
   "execution_count": null,
   "metadata": {
    "id": "HOnkD-Po2v5P"
   },
   "outputs": [],
   "source": [
    "#saving train data to disk\n",
    "qa.to_pickle('./qa_gpt_inbuild.pkl')"
   ]
  },
  {
   "cell_type": "code",
   "execution_count": null,
   "metadata": {
    "id": "6ZIuyPjr2yRw"
   },
   "outputs": [],
   "source": [
    "#finding length of the gpt data for train dataset\n",
    "qa['gpt_lens']=qa.gpt_data.apply(lambda x: len(x))"
   ]
  },
  {
   "cell_type": "code",
   "execution_count": null,
   "metadata": {
    "id": "y9DDYyen200G"
   },
   "outputs": [],
   "source": [
    "#finding length of the gpt data for validation dataset\n",
    "validation_gpt_data['gpt_lens']=validation_gpt_data.gpt_data.apply(lambda x: len(x))"
   ]
  },
  {
   "cell_type": "code",
   "execution_count": 11,
   "metadata": {
    "colab": {
     "base_uri": "https://localhost:8080/"
    },
    "id": "7bSxjKRn289e",
    "outputId": "4606cdd2-f429-4345-e480-ae25b4cbbc83"
   },
   "outputs": [],
   "source": [
    "#finding train datapoints that has sequence length of 1024\n",
    "gpt_data_cleaned=qa[qa.gpt_lens==1024]\n",
    "gpt_data_cleaned.shape"
   ]
  },
  {
   "cell_type": "code",
   "execution_count": 12,
   "metadata": {
    "colab": {
     "base_uri": "https://localhost:8080/"
    },
    "id": "W_ELG2mv2_aI",
    "outputId": "5d0a0c01-0865-451d-e232-360868f86cf1"
   },
   "outputs": [],
   "source": [
    "#finding validation datapoints that has sequence length of 1024\n",
    "validation_gpt_data_cleaned=validation_gpt_data[validation_gpt_data.gpt_lens==1024]\n",
    "validation_gpt_data_cleaned.shape"
   ]
  },
  {
   "cell_type": "code",
   "execution_count": null,
   "metadata": {
    "id": "r3DUsb2n3B5c"
   },
   "outputs": [],
   "source": [
    "#function to create the loss mask given mask start\n",
    "def return_loss_mask(mask_start):\n",
    "  return [0]*mask_start+[1]*(1024-mask_start)"
   ]
  },
  {
   "cell_type": "code",
   "execution_count": null,
   "metadata": {
    "colab": {
     "base_uri": "https://localhost:8080/"
    },
    "id": "kyoM0gzq3EUV",
    "outputId": "e5196358-d07f-4305-bc73-9da1e16e3dfc"
   },
   "outputs": [
    {
     "name": "stderr",
     "output_type": "stream",
     "text": [
      "/usr/local/lib/python3.7/dist-packages/ipykernel_launcher.py:2: SettingWithCopyWarning: \n",
      "A value is trying to be set on a copy of a slice from a DataFrame.\n",
      "Try using .loc[row_indexer,col_indexer] = value instead\n",
      "\n",
      "See the caveats in the documentation: https://pandas.pydata.org/pandas-docs/stable/user_guide/indexing.html#returning-a-view-versus-a-copy\n",
      "  \n"
     ]
    }
   ],
   "source": [
    "#creating loss mask for train data\n",
    "gpt_data_cleaned['mask']=gpt_data_cleaned.mask_start.apply(lambda x: return_loss_mask(x))"
   ]
  },
  {
   "cell_type": "code",
   "execution_count": null,
   "metadata": {
    "id": "futOp__w3G_o"
   },
   "outputs": [],
   "source": [
    "#creating loss mask for validation data\n",
    "validation_gpt_data_cleaned['mask']=validation_gpt_data_cleaned.mask_start.apply(lambda x: return_loss_mask(x))"
   ]
  },
  {
   "cell_type": "code",
   "execution_count": null,
   "metadata": {
    "id": "BDgimbcg3Jbz"
   },
   "outputs": [],
   "source": [
    "#saving train gpt data with loss mask to disk\n",
    "gpt_data_cleaned.to_pickle('./qa_gpt_inbuild_cleaned.pkl')"
   ]
  },
  {
   "cell_type": "code",
   "execution_count": null,
   "metadata": {
    "id": "s4q2L6TI3L7_"
   },
   "outputs": [],
   "source": [
    "#saving validation gpt data with loss mask to disk\n",
    "validation_gpt_data_cleaned.to_pickle('./validation_gpt_inbuild_cleaned.pkl')"
   ]
  },
  {
   "cell_type": "code",
   "execution_count": null,
   "metadata": {
    "colab": {
     "base_uri": "https://localhost:8080/"
    },
    "id": "6F_uf-ym3OFy",
    "outputId": "017f1e6b-f048-47ab-96da-877a92c186e4"
   },
   "outputs": [
    {
     "data": {
      "text/plain": [
       "((23797, 8), (5950, 8))"
      ]
     },
     "execution_count": 143,
     "metadata": {
      "tags": []
     },
     "output_type": "execute_result"
    }
   ],
   "source": [
    "#loading gpt train and validation data from disk\n",
    "gpt_data_cleaned=pd.read_pickle('./qa_gpt_inbuild_cleaned.pkl')\n",
    "validation_gpt_data_cleaned=pd.read_pickle('./validation_gpt_inbuild_cleaned.pkl')\n",
    "gpt_data_cleaned.shape,validation_gpt_data_cleaned.shape"
   ]
  },
  {
   "cell_type": "code",
   "execution_count": null,
   "metadata": {
    "id": "Oqli6IUi3QPP"
   },
   "outputs": [],
   "source": [
    "#extracting gpt data for train data\n",
    "gpt_data=[]\n",
    "for i in gpt_data_cleaned.gpt_data.values:\n",
    "  gpt_data.append(i)\n",
    "gpt_data=np.array(gpt_data)\n",
    "gpt_data.shape"
   ]
  },
  {
   "cell_type": "code",
   "execution_count": null,
   "metadata": {
    "id": "nFQlIinu3SP4"
   },
   "outputs": [],
   "source": [
    "#extracting gpt data for validation data\n",
    "validation_gpt_data=[]\n",
    "for i in validation_gpt_data_cleaned.gpt_data.values:\n",
    "  validation_gpt_data.append(i)\n",
    "validation_gpt_data=np.array(validation_gpt_data)\n",
    "validation_gpt_data.shape"
   ]
  },
  {
   "cell_type": "code",
   "execution_count": null,
   "metadata": {
    "id": "BHb0YUKKuScm"
   },
   "outputs": [],
   "source": [
    "len(gpt_data_cleaned['mask'][0])"
   ]
  },
  {
   "cell_type": "code",
   "execution_count": null,
   "metadata": {
    "colab": {
     "base_uri": "https://localhost:8080/"
    },
    "id": "RS-md6QY3gJS",
    "outputId": "2e97fdb0-3bde-4041-a442-63b1a6ed7741"
   },
   "outputs": [
    {
     "data": {
      "text/plain": [
       "(23797, 1024)"
      ]
     },
     "execution_count": 147,
     "metadata": {
      "tags": []
     },
     "output_type": "execute_result"
    }
   ],
   "source": [
    "#extracting loss mask for train data\n",
    "loss_mask=[]\n",
    "for i in gpt_data_cleaned['mask'].values:\n",
    "  loss_mask.append(i)\n",
    "loss_mask=np.array(loss_mask)\n",
    "loss_mask.shape"
   ]
  },
  {
   "cell_type": "code",
   "execution_count": null,
   "metadata": {
    "id": "RKH0v5Jj3idE"
   },
   "outputs": [],
   "source": [
    "#extracting loss mask for validation data\n",
    "validation_loss_mask=[]\n",
    "for i in validation_gpt_data_cleaned['mask'].values:\n",
    "  validation_loss_mask.append(i)\n",
    "validation_loss_mask=np.array(validation_loss_mask)\n",
    "validation_loss_mask.shape"
   ]
  },
  {
   "cell_type": "code",
   "execution_count": null,
   "metadata": {
    "id": "EXiHce-c3lOi"
   },
   "outputs": [],
   "source": [
    "#https://blog.tensorflow.org/2019/05/transformer-chatbot-tutorial-with-tensorflow-2.html\n",
    "#preparing the gpt train dataset\n",
    "import tensorflow as tf\n",
    "BATCH_SIZE = 1\n",
    "BUFFER_SIZE = 20000\n",
    "gpt_train_dataset = tf.data.Dataset.from_tensor_slices((\n",
    "    {\n",
    "        'context': gpt_data,\n",
    "\n",
    "        'label': gpt_data[:,1:],\n",
    "        'loss_mask':loss_mask[:,:-1]\n",
    "    },\n",
    "))\n",
    "\n",
    "\n",
    "gpt_train_dataset = gpt_train_dataset.shuffle(BUFFER_SIZE)\n",
    "gpt_train_dataset = gpt_train_dataset.batch(BATCH_SIZE)\n",
    "gpt_train_dataset = gpt_train_dataset.prefetch(tf.data.experimental.AUTOTUNE)"
   ]
  },
  {
   "cell_type": "code",
   "execution_count": null,
   "metadata": {
    "id": "WxE3S6TJ3n4V"
   },
   "outputs": [],
   "source": [
    "#https://blog.tensorflow.org/2019/05/transformer-chatbot-tutorial-with-tensorflow-2.html\n",
    "#preparing the gpt validation dataset\n",
    "import tensorflow as tf\n",
    "BATCH_SIZE = 1\n",
    "BUFFER_SIZE = 20000\n",
    "validation_gpt_train_dataset = tf.data.Dataset.from_tensor_slices((\n",
    "    {\n",
    "        'context': validation_gpt_data,\n",
    "\n",
    "        'label': validation_gpt_data[:,1:],\n",
    "        'loss_mask':validation_loss_mask[:,:-1]\n",
    "    },\n",
    "))\n",
    "\n",
    "validation_gpt_train_dataset = validation_gpt_train_dataset.shuffle(BUFFER_SIZE)\n",
    "validation_gpt_train_dataset = validation_gpt_train_dataset.batch(BATCH_SIZE)\n",
    "validation_gpt_train_dataset = validation_gpt_train_dataset.prefetch(tf.data.experimental.AUTOTUNE)"
   ]
  },
  {
   "cell_type": "code",
   "execution_count": null,
   "metadata": {
    "colab": {
     "base_uri": "https://localhost:8080/"
    },
    "id": "wZ8HiWNL3t5I",
    "outputId": "18f11291-567a-400a-c461-e20428dacf63"
   },
   "outputs": [
    {
     "name": "stderr",
     "output_type": "stream",
     "text": [
      "All model checkpoint layers were used when initializing TFGPT2LMHeadModel.\n",
      "\n",
      "All the layers of TFGPT2LMHeadModel were initialized from the model checkpoint at gpt2.\n",
      "If your task is similar to the task the model of the checkpoint was trained on, you can already use TFGPT2LMHeadModel for predictions without further training.\n"
     ]
    }
   ],
   "source": [
    "#loading pre-trained gpt2 tokenizer and gpt2 model\n",
    "from transformers import GPT2Tokenizer,TFGPT2LMHeadModel\n",
    "tokenizer=GPT2Tokenizer.from_pretrained(\"gpt2\")\n",
    "tf_gpt2_model=TFGPT2LMHeadModel.from_pretrained(\"gpt2\")"
   ]
  },
  {
   "cell_type": "code",
   "execution_count": null,
   "metadata": {
    "id": "v5cqYN-z3wlm"
   },
   "outputs": [],
   "source": [
    "#displaying sample gpt training data\n",
    "next(iter(gpt_train_dataset))"
   ]
  },
  {
   "cell_type": "code",
   "execution_count": 1,
   "metadata": {
    "colab": {
     "base_uri": "https://localhost:8080/",
     "height": 1000
    },
    "id": "QaDc8qBG33ys",
    "outputId": "e520faaf-f640-40ca-827e-7ac47af3e7f1"
   },
   "outputs": [],
   "source": [
    "#training the gpt2 model\n",
    "learning_rate=0.0001\n",
    "optim=tf.optimizers.Adam(learning_rate)\n",
    "j=0\n",
    "loss_cum=0\n",
    "epoch_loss=0\n",
    "stop_training=False\n",
    "epochs=10\n",
    "for epoch in range(epochs):\n",
    "  print('epoch',epoch)\n",
    "  for i in tqdm(gpt_train_dataset):\n",
    "    with tf.GradientTape() as tape:\n",
    "      context=i[0]['context']\n",
    "      loss_mask=tf.cast(i[0]['loss_mask'],tf.float32)\n",
    "      output=tf_gpt2_model(context,training=True)['logits']\n",
    "      loss_value = tf.reduce_sum(tf.nn.sparse_softmax_cross_entropy_with_logits(labels=np.array(i[0]['label']), logits=output[ :,:-1])*loss_mask)\n",
    "      j=j+1\n",
    "      loss_cum+=loss_value\n",
    "      epoch_loss+=loss_value/100\n",
    "      if j%50==0:\n",
    "        print(loss_cum/50)\n",
    "        grads=tape.gradient(loss_cum/50,tf_gpt2_model.trainable_variables)\n",
    "        optim.apply_gradients(zip(grads,tf_gpt2_model.trainable_variables))\n",
    "        loss_cum=0\n",
    "      if tf.math.is_nan(loss_value):\n",
    "        print('loss became nan')\n",
    "        stop_training=True\n",
    "        break\n",
    "      if j%10000==0:\n",
    "        tf_gpt2_model.save_pretrained(\"tf_gpt2_model_2_10\"+str(epoch)+'_'+str(j))\n",
    "  print('epoch_loss by 100',epoch_loss/237)\n",
    "  epoch_loss=0\n",
    "  if stop_training:\n",
    "    break\n",
    "  tf_gpt2_model.save_pretrained(\"tf_gpt2_model_2_10\"+str(epoch))"
   ]
  },
  {
   "cell_type": "code",
   "execution_count": null,
   "metadata": {
    "colab": {
     "base_uri": "https://localhost:8080/"
    },
    "id": "t8TRvqsF36rT",
    "outputId": "756635d4-1352-4f54-ada0-46c928ae5110"
   },
   "outputs": [
    {
     "name": "stderr",
     "output_type": "stream",
     "text": [
      "All model checkpoint layers were used when initializing TFGPT2LMHeadModel.\n",
      "\n",
      "All the layers of TFGPT2LMHeadModel were initialized from the model checkpoint at ./tf_gpt2_model_2_106_160000.\n",
      "If your task is similar to the task the model of the checkpoint was trained on, you can already use TFGPT2LMHeadModel for predictions without further training.\n"
     ]
    }
   ],
   "source": [
    "#loading the gpt2 model from the above saved checkpoint\n",
    "tf_gpt2_model=TFGPT2LMHeadModel.from_pretrained(\"./tf_gpt2_model_2_106_160000\")"
   ]
  },
  {
   "cell_type": "code",
   "execution_count": null,
   "metadata": {
    "colab": {
     "base_uri": "https://localhost:8080/",
     "height": 35
    },
    "id": "ypHMaYDa05eN",
    "outputId": "d4536150-defc-48d4-f3ee-b92fc3f54f6c"
   },
   "outputs": [
    {
     "data": {
      "application/vnd.google.colaboratory.intrinsic+json": {
       "type": "string"
      },
      "text/plain": [
       "'/content/drive/MyDrive/ChatBot/Data'"
      ]
     },
     "execution_count": 9,
     "metadata": {
      "tags": []
     },
     "output_type": "execute_result"
    }
   ],
   "source": [
    "import os\n",
    "os.getcwd()"
   ]
  },
  {
   "cell_type": "code",
   "execution_count": null,
   "metadata": {
    "id": "UsANogIg4Jrm"
   },
   "outputs": [],
   "source": [
    "#function to return sample origingal and generated answers for the train dataset\n",
    "def return_sample_output_predicted():\n",
    "  sample_data=next(iter(gpt_train_dataset))\n",
    "  v=sample_data[0]['context'].numpy()[0]\n",
    "  mask_start = len(v) - list(v[::-1]).index(4600) + 1\n",
    "  input=v[:mask_start+1]\n",
    "  next_step_input=[]\n",
    "  input1=list(input)+next_step_input\n",
    "  final_output=[]\n",
    "  for i in range(0,1024-len(input)):\n",
    "    input1=list(input1)+next_step_input\n",
    "    output=tf_gpt2_model([np.array(input1)])['logits']\n",
    "    output1=np.argmax(output,axis=1)\n",
    "    next_step_input=[output1[-1]]#appending last output to input\n",
    "    next_step_char=tokenizer.decode(next_step_input)\n",
    "    final_output.append(next_step_char)\n",
    "  expected_output=v[mask_start+1:]\n",
    "  return v,tokenizer.decode(expected_output),' '.join(final_output)"
   ]
  },
  {
   "cell_type": "code",
   "execution_count": null,
   "metadata": {
    "colab": {
     "base_uri": "https://localhost:8080/"
    },
    "id": "PfRCpPba4MWf",
    "outputId": "1e47538f-7efb-4633-dd8d-3361340ff29d"
   },
   "outputs": [
    {
     "name": "stdout",
     "output_type": "stream",
     "text": [
      " scheduled for awhile should i call for an immediate visit now or wait until tomorrow i am diabetic with high blood pressure and cholesterol all medicated what did i experience `ANSWER: this happened to me a few years ago i was so scared that i was at the eye doctor is office when it opened they worked me in and dr gave some fancy name for it and said nothing to worry about it never happened again it was worth the trip just to be re assured `QUESTION: diagnosis  hidradenitis suppurativa  large and painful boils in the groin area considering injections success rate  this condition started 2 years ago and exacerbated with shaving it is extremely painful cannot be improved with excessive hygiene is embarrassing has resulted in multiple scars and had a psychological effect on me also i am considering the injections my dr said it is botox but i read that it is antibiotic i just want it to go away sometimes the boils last 2 3 weeks can it be permanently cured or go into a remission period it is so gross `ANSWER: this condition started 5 years ago and exacerbated with shaving it is extremely painful cannot be improved with excessive hygiene is embarrassing has resulted in multiple scars and had a psychological effect on me also i just want it to go away sometimes the boils last 2 3 weeks can it be permanently cured or go into a remission period it is so gross `QUESTION: do glasses and contacts cancel eachother out while having good eyesight i want to have be forced to wear real glasses please i really want this to blend in i want to know how it feels i will be wearing these contact lenses that ruin my eyesight for the rest of my life that will force me to wear glasses on top of them for the rest of my life to see something along the lines of  3 for the lenses and +3 for the glasses if this does not work are there other lenses that force the need to wear glasses  i am extremely serious about this question i am annoyed and bored with having normal functioning eyes `ANSWER: have you considered seeing a psychologistpsychiatrist to discuss your body image issues `QUESTION: what are side effects after liposuction pink color patches on the skin round liposuction `ANSWER: hello this is really a good question here we have some of the most common side effects of liposuction scars swelling bruises pain reduced mobility just to make it clear side effects differ from complications in the fact that the side effects always take place after an invasive liposuction surgery while complication may never appear as for the pink patches can you please tell me which liposuction technique did you opt for tumescent ultrasonic laser etc for more info on the side effects have a look here <link>#side_effects `QUESTION: is stress causes acne  one of my friend told me that acne is caused by stress is it really true or not  tell me the causes of acne so that i can clear it that stress is a cause or not `ANSWER: rod moser pa phd if acne caused by hormones then how one can balance them to stop causing acne as one of my friend is suffering form a severe acne she is using betnovate to cure pimple at night and after curing pimple within 2 3 days she used retino a but within 2 3 days she got a new pimple on her face and she apply the same for that too she become frustrate by this unending process and want to get rid of it i thought she is having very much stress that is why she is having such severe acne problem but as per your concern this is caused by hormones so please recommend something batter for her asap `QUESTION: could i have your opinion on my erectile dysfunction and low libido `ANSWER: i have a few questions as a follow up when was your puberty do you find any change in shaving frequency are you getting morning erections is there any history of testicular surgery have you had mumps when did you last take ecstasy mdma   methylenedioxy methamphetamine is there any double vision revert back with the answers to the above questions to an endocrinologist online   > <link> `QUESTION: what is the procedure to remove a cyst from your wrist the cyst is in the exact middle of my wrist and is growing in size i do not have insurance and cant afford to go to an emergency room would i be able to go to a free clinic to treat it  `ANSWER: this may be a ganglion cyst no a free clinic will not treat it and neither will the emergency room you will need to see a hand surgeon once you have insurance or the financial resources to pay for a visit and the procedure expensive this is a cyst on a nerve so only an expert should be attempting to remove it simply aspirating it with a needle some medical providers do this is unlikely to orchestrate a permanent cure it will come back slamming it with a book my aunt claimed the book had to be a bible is painful and unlikely to solve your problem you can just leave it be for now and wait until you have insurance\n",
      ": this may be a ganglion cyst no a free clinic will not treat it and neither will the emergency room you will need to see a hand surgeon once you have insurance or the financial resources to pay for a visit and the procedure expensive this is a cyst on a nerve so only an expert should be attempting to remove it simply aspirating it with a needle some medical providers do this is unlikely to orchestrate a permanent cure it will come back slamming it with a book my aunt claimed the book had to be a bible is painful and unlikely to solve your problem you can just leave it be for now and wait until you have insurance\n",
      ":  the  procedure  to  remove  a  cy st  is  called  a  cy st ectomy      a  procedure  that  is  designed  to  remove  a  cy st  from  a  wrist  or  arm  that  is  not  covered  by  insurance                                                                                                                                                                                      \n",
      "------------------\n",
      "air for about 15 years without any effects to my liver my normal yearly physical exams include blood work and my liver numbers were always in the normal range in the summer of 2012 my insurance decided to change my singulair prescription to montelukast because it is cheaper how nice of them  everyone said it is the same exact thing as singulair but for some reason i was apprehensive and just did not trust this new medicine in february 2013 i had my yearly physical and my liver numbers had sky rocketed way beyond the normal ranges they look at 2 numbers ast and alt even though i am not a heavy drinker the doctor had me stop all alcohol for 6 weeks and then i was retested the results were exactly the same as before so alcohol was not the culprit the doctor wanted to send me to the hospital for additional tests including to check for hepatitis to see why i was exhibiting liver damage i asked if i could try fasting from montelukast for 6 weeks first before undergoing a bunch of other tests and the doctor agreed because he said i was not in danger however he did not think montelukast was the cause i had a feeling it was montelukast because nothing else had changed in the last few years other than that after 6 weeks of not taking montelukast i was retested and my liver numbers dropped by half my ast was back in the normal range and my alt was just above the high normal which is nothing to worry about therefore i was right it was the montelukast that was causing my liver damage this medication may be cheaper but it is more detrimental to me physically and is not worth the savings to me they are similar but are not exactly the same supposedly the active ingredients are the same but the inactive ingredients are different i have been on singular a year and recently switched over to the now available eqivalent montelukast i have noticed an increase of sweeting and tiredness since switching over to the generic i am going to stop taking the med for a few days to see if it is the new generic that is causing my symptoms or something else has anyone else experienced these symptoms since switching to montelukast i have just been changed over without notice when i was on singulair i hardly used my inhalers and didnt wake at night been on these montelukast for about a week and i am waking at night to use my inhaler and using it more often through the day which i wasnt before i would like to know the same thing i have tried to use the montelukast 2 times now and `QUESTION: can i take benadryl with zyrtec my wife has hives on her chest and arms that just poped up last night `ANSWER: why would you want to take two antihistamines you may want to talk to a doctor and get a stronger prescription antihistamine if either of these are not very effective for you `QUESTION: my teeth have turned yellow `ANSWER: therasol when looking for an alternative to peridex [chlorhexidine gluconate oral rinse] `QUESTION: does vicks inhaler contain any antihistamine `ANSWER: my grandson is contains camphor 41 53 and menthol 41 53 `QUESTION: if i were to take xanax 25 mg prescribed to me thursday night would it be out of my system by sunday evening driver i want to be responsible i have had some life changes that have caused anxiety and my doctor prescribed me to take 25 mg of xanax for only emergencies along with well butrin however i drive for a living and i do not want to take any chances with my livelihood i do not want to have any in my system while working i will not start if there is no way of avoiding this problem thank you `ANSWER: is thewhite 25mg xanax stronger than 0 5 yellow `QUESTION: is every pharmacy able to compound medications for my child `ANSWER: this is a difficult question to answer compounding used to be more popular than it is now pharmacists were trained to compound in school and any nearly pharmacist could prepare medication for you in this way now many pharmacy schools have compounding training available but do not require the course a compounded medication is a product that a pharmacist makes on an individual basis because it is not commercially provided pharmacists need to make sure the ingredients can remain stable in the mixture and that they will provide proper treatment for the patient is condition recipes for compounds are not standard so sometimes the pharmacist has to conduct research to obtain a recipe for the compounded medication that your physician has prescribed many chain pharmacies do not have pharmacist that are trained to compound if you need a compounded prescription they should be able to direct you to another pharmacy to suit your need there are community pharmacies available that specialize in compounding but you want to do some research check with your local children is hospital to see if they have an outpatient pharmacy that will fill your prescription if they do not see if they can recommend a local pharmacy that is able to compound the medication for you\n",
      ": this is a difficult question to answer compounding used to be more popular than it is now pharmacists were trained to compound in school and any nearly pharmacist could prepare medication for you in this way now many pharmacy schools have compounding training available but do not require the course a compounded medication is a product that a pharmacist makes on an individual basis because it is not commercially provided pharmacists need to make sure the ingredients can remain stable in the mixture and that they will provide proper treatment for the patient is condition recipes for compounds are not standard so sometimes the pharmacist has to conduct research to obtain a recipe for the compounded medication that your physician has prescribed many chain pharmacies do not have pharmacist that are trained to compound if you need a compounded prescription they should be able to direct you to another pharmacy to suit your need there are community pharmacies available that specialize in compounding but you want to do some research check with your local children is hospital to see if they have an outpatient pharmacy that will fill your prescription if they do not see if they can recommend a local pharmacy that is able to compound the medication for you\n",
      ":  yes  there  are  many  different  types  of  medications  available  for  your  child  there  are  some  that  are  available  for  your  child  there  are  some  that  are  available  for  your  child  there  are  some  that  are  available  for  your  child  there  are  some  that  are  available  for  your  child  there  are  some  that  are  available  for  your  child  there  are  some  that  are  available  for  your  child  there  are  some  that  are  available  for  your  child  there  are  some  that  are  available  for  your  child  there  are  some  that  are  available  for  your  child  there  are  some  that  are  available  for  your  child  there  are  some  that  are  available  for  your  child  there  are  some  that  are  available  for  your  child  there  are  some  that  are  available  for  your  child  there  are  some  that  are  available  for  your  child  there  are  some  that  are  available  for  your  child  there  are  some  that  are  available  for  your  child  there  are  some  that  are  available  for  your  child  there  are  some  that  are  available  for  your  child  there  are  some  that  are  available  for  your  child  there  are  some  that  are  available  for  your  child  there  are  some  that  are  available  for  your  child  there  are  some  that  are  available  for  your  child  there  are  some  that  are  available  for  your  child  there\n",
      "------------------\n",
      " nose headache or vomitingnausea is there any home remedies for this i am taking tylenol cold and flu and a few cough drops here and there i know she knows me best but some tipsold wives tales for a sore throat would be nice `ANSWER: i have always had success with hot green tea with honey `QUESTION: how much salt does a person need `ANSWER: about 1 teaspoon a day or 2300 mg for people ages two and up how much salt do we ingest on a daily basis on average about 50 more than that ouch and that extra salt raises blood pressure making the heart work harder and thus leading to heart disease `QUESTION: why do i feel lightheaded fatigued and sweat during sleeping no fever  i am an almost 37 yr old female with a lot of stress right now dr put me on effexor and i started not being able to sleep having bad headaches feeling lightheaded and constipated i took it for 2 weeks and he told me to stop when i called him he called me in something else but i am afraid to get it i have been on paxil prozac and celexa and never felt this horrible i have not taken anything in almost a week but feel lightheaded many times thoughout the day any ideas what could be wrong `ANSWER: thanks actually i had some bloodwork done and my vitamin d level was very low 7 i was put on 50 000 iu of a prescription vitamin d for 8 wks 1 a wk it is been 9 weeks tomorrow and now i am taking over the counter vitamin d am going back to dr next week to have blood checked again i felt better after the first 2 wks not dizzy not tired no more headaches then again i began feeling dizzy lightheaded alot and tired no energy i do not know what is going on but i will hopefully find out <positive_smiley> `QUESTION: diarrhea and stomach pain i have been having diarrhea for 6 days anything i take into my stomach will have to come out within 10 15 min but it will come out only a little at a time and have very bad stomach pain while using the bathroom i would have to wake up 5 6 times at night to use the bathroom but only little at a time comes out my stomach seem to hurt more if i lay down and also feeling a lot of back pain do not have any fever but a little head ahead here and there is this normal `ANSWER: abdinal painad diahrea `QUESTION: is there a nonprescription dieretic diurex does not work for me over the counter is my only option `ANSWER: i know of no effective over the counter diuretics why do not you see a medical provider to determine why you need a diuretic and have one prescribed for you `QUESTION: i have retro peritoneal fibrosis with an aortic aneurysm `ANSWER: lyrolin 150mg twice daily `QUESTION: how can i reduce salt in my food `ANSWER: everyone is telling us to reduce salt intake how can you do this and still have the opportunity to season food and keep it tasty try these herbal options you can use for meats poultry fish veggies soups and salads spicy blend 2 tablespoons dried savory crumbled 14 teaspoon freshly ground white pepper 1 tablespoon dry mustard 14 teaspoon ground cumin 2 12 teaspoons onion powder 12 teaspoon garlic powder 14 teaspoon curry powder saltless surprise 2 teaspoons garlic powder 1 teaspoon basil 1 teaspoon oregano 1 teaspoon powdered lemon rind or dehydrated lemon juice herb seasoning 2 tablespoons dried dill weed or basil leaves crumbled 1 teaspoon celery seed 2 tablespoons onion powder 14 teaspoon dried oregano leaves crumbled a pinch of freshly ground pepper spicy seasoning 1 teaspoon cloves 1 teaspoon pepper 2 teaspoons paprika 1 teaspoon coriander seed crushed 1 tablespoon rosemary `QUESTION: is protein powder good or bad `ANSWER: what are you using it for how much what kind of protein powder `QUESTION: can eating ginger cookies have same effects as ginger root `ANSWER: what kind of effects are you expecting from the ginger ginger root of course would have much more ginger than a cookie that may only be ginger flavored `QUESTION: what are the symptoms of gastroenteritis `ANSWER: does crackers help with nausea `QUESTION: i have a prescription for hydrcodoneacetaminophen 7 5 500 t what does the t at the end mean `ANSWER: tablet `QUESTION: does vicks inhaler contain any antihistamine `ANSWER: my grandson is contains camphor 41 53 and menthol 41 53 `QUESTION: what should i do if i suspect an overdose of eszopiclone `ANSWER: if overdose is suspected contact your local poison control center or emergency room immediately us residents can call the us national poison hotline at 1 800 222 1222 canadian residents should call their local poison control center directly symptoms of overdose may include confusion fainting or a deep sleep from which you cannot be awakened\n",
      ": if overdose is suspected contact your local poison control center or emergency room immediately us residents can call the us national poison hotline at 1 800 222 1222 canadian residents should call their local poison control center directly symptoms of overdose may include confusion fainting or a deep sleep from which you cannot be awakened\n",
      ":  if  overdose  is  suspected  contact  a  poison  control  center  or  emergency  room  immediately  us  residents  can  call  the  us  national  poison  hotline  at  1  800  222  12 22  can ada  residents  can  call  a  provincial  poison  control  center  symptoms  of  overdose  may  include  burning  or  light headed ness  loss  of  consciousness  confusion  confusion  loss  of  consciousness  confusion  loss  of\n",
      "------------------\n",
      " bleach being put in them about a year and a half ago `QUESTION: i have pain stiffnes and weakness in hands and fingers x ray did not show inflamationn or degnerative arthritis i am 56 yr old female my hands and all fingers are very stiff all the time and very painfull when not in use if i do not keep them moving they become very stiff in a few minutes i have been taking celebrex which helps but i want to know what is wrong with them i had carpel tunnel surgery 2 years ago in my left hand and 15 yrs ago in my right  x ray taken 2 weeks ago states no inflammatory or degenerative arthritis will arthritis always show on x ray what is my next step `ANSWER: my arthritis took 5 years before it showed up on an x ray my one hand hurt despite no proof and the doctor gave me meloxicam 15 mg tab to take because i also have arthritis in my left knee i take it at night only  x rays do not necessarily work to the depth we expect them to in my opinion but my doctor knows this `QUESTION: mid back pain with activity large bruise like discoloration 4 5 diameter to the left of my spine mid back over 1yr i was diagnosed with osteoporosis at age 43 `ANSWER: is it due to trauma better visit your doctor for further diagnosis and correct medication `QUESTION: how is osteoarthritis treated what medications can be used `ANSWER: can heavy lifting for years cause djd `QUESTION: i have pain in my knee under the knee cap the back of my knee and my thigh is this just arthritis  some times i can hardly stand i have always tucked my leg under me when i sit down i can not any more the pain is too harsh some times my thigh muscles and calf muscles hurt so bad is this all part of arthris `ANSWER: i have had no previous injuries `QUESTION: what are the different surgical options for treatment of arthritis of the hand and wrist `ANSWER: carpal tunnel surgery trigger finger surgery `QUESTION: what causes pain when you lower your arm after raising it  i injured my arm lifting a box of books had an xray which showed only some arthritis have had some problem with pain in my shoulder when sleeping on it in the past it is my right shoulder `ANSWER: i have had surgery on my rotator cuff because of natural wear i had a problem that if i raised and then lowered my arm the shoulder hurt when i lowered my arm it turned out to be shoulder rotator cartilage problem the pain disappeared after a few moments after i lowered my arm `QUESTION: painful nodule on bottom of foot two more now any type of stretching causes excruciating pain `ANSWER: carpal tunnel and trigger release surgery was due to a repititious job in a chicken plant dbone line two of these nodules have a red to purple color in good lighting i have lean towards fibromitosis but can it affect calf tendon `QUESTION: i have been experiencing sharp lancing pain behind my right ear in the mastoid area `ANSWER: is there any change in the muscles of the face any swelling in the neck or behind the ear any pain while moving your jaw waiting ur reply `QUESTION: very painful foot pain 50 yr old male heart disease past 20 yrs high bp cannot walk very far without developing severe foot pain in the arch of the feet first heart attack 20 yrs ago last one 4 yrs ago feet pain started a year before last heart attack started in one foot then after triple bypass in 08 it is in both feet very painful also flat footed 40 heart function otherwise quite healthy `ANSWER: the ball of my foot is hurting really bad `QUESTION: why does the back of my knee hurt  a few weeks ago i took a side hit to the knee yesterday when i went for a walk the back of my knee started to hurt now any time i walk much i t starts hurting it is like a aching pain `ANSWER: i am sorry to hear you are going through this pain is never fun unfortunately there is no way to tell what could be causing your pain without a physical examination and possibly some imaging studies there are many conditions that could cause the type of pain you describe the hit you took to the side of the knee could be contributing to the pain or it might have nothing to do with it at all it is not likely the knee trauma you experienced several weeks ago would contribute to new symptoms today but it would be best to have an expert check this out taking the blow to the knee out of the equation one condition that can cause the type of pain you describe is called  baker is cyst  this condition is not life threatening and often causes few symptoms it can be treated pretty easily i suggest you see a medical professional for further evaluation wishing you well as you have hurted your knee it may cause pain pain due to trauma take time to heal rest and proper exercise can reduce the pain and strain to the area affected\n",
      ": i am sorry to hear you are going through this pain is never fun unfortunately there is no way to tell what could be causing your pain without a physical examination and possibly some imaging studies there are many conditions that could cause the type of pain you describe the hit you took to the side of the knee could be contributing to the pain or it might have nothing to do with it at all it is not likely the knee trauma you experienced several weeks ago would contribute to new symptoms today but it would be best to have an expert check this out taking the blow to the knee out of the equation one condition that can cause the type of pain you describe is called  baker is cyst  this condition is not life threatening and often causes few symptoms it can be treated pretty easily i suggest you see a medical professional for further evaluation wishing you well as you have hurted your knee it may cause pain pain due to trauma take time to heal rest and proper exercise can reduce the pain and strain to the area affected\n",
      ":  i  am  not  sure  why  you  are  experiencing  pain  but  it  is  probably  related  to  the  knee  or  something  else  i  am  not  sure  why  you  are  experiencing  pain  but  it  is  probably  related  to  the  knee  or  something  else  i  am  not  sure  why  you  are  experiencing  pain  but  it  is  probably  related  to  the  knee  or  something  else  i  am  not  sure  why  you  are  experiencing  pain  but  it  is  probably  related  to  the  knee  or  something  else  i  am  not  sure  why  you  are  experiencing  pain  but  it  is  probably  related  to  the  knee  or  something  else  i  am  not  sure  why  you  are  experiencing  pain  but  it  is  probably  related  to  the  knee  or  something  else  i  am  not  sure  why  you  are  experiencing  pain  but  it  is  probably  related  to  the  knee  or  something  else  i  am  not  sure  why  you  are  experiencing  pain  but  it  is  probably  related  to  the  knee  or  something  else  i  am  not  sure  why  you  are  experiencing  pain  but  it  is  probably  related  to  the  knee  or  something  else  i  am  not  sure  why  you  are  experiencing  pain  but  it  is  probably  related  to  the  knee  or\n",
      "------------------\n",
      " a bunch of other tests and the doctor agreed because he said i was not in danger however he did not think montelukast was the cause i had a feeling it was montelukast because nothing else had changed in the last few years other than that after 6 weeks of not taking montelukast i was retested and my liver numbers dropped by half my ast was back in the normal range and my alt was just above the high normal which is nothing to worry about therefore i was right it was the montelukast that was causing my liver damage this medication may be cheaper but it is more detrimental to me physically and is not worth the savings to me they are similar but are not exactly the same supposedly the active ingredients are the same but the inactive ingredients are different i have been on singular a year and recently switched over to the now available eqivalent montelukast i have noticed an increase of sweeting and tiredness since switching over to the generic i am going to stop taking the med for a few days to see if it is the new generic that is causing my symptoms or something else has anyone else experienced these symptoms since switching to montelukast i have just been changed over without notice when i was on singulair i hardly used my inhalers and didnt wake at night been on these montelukast for about a week and i am waking at night to use my inhaler and using it more often through the day which i wasnt before i would like to know the same thing i have tried to use the montelukast 2 times now and `QUESTION: how and where do you normally give injectable coumadin `ANSWER: i am wondering if you are actually referring to lovenox subq generic name enoxaparin injection because to my knowledge there is no patient injectable form of the drug coumadin generic name warfarin both warfarin and enoxaparin are blood thinners blood thinners are used to prevent blood clots however warfarin has a wider range of uses than enoxaparin enoxaparin is normally used for a short period of time to prevent blood clots in people who are on bed rest or who are undergoing joint replacement surgery enoxaparin is provided to the patient as a single dose injection in a syringe normally you inject enoxaparin into the fatty tissue in the area around the belly button these injections are not very painful because the needle is so tiny if you were given a lovenox prescription but were not taught how to perform the injection please speak to your pharmacist he or she can s how you exactly how to inject the enoxaparin correctly good luck to you i was taking coumadin orally but while i was on coumadin threapy i developed a blood clot in my left leg so i was found to be non theraputic by a doctor and placed on lifetime lovenox is it possible to transition back to coumadin therapy after an extended period of lovenox therapy `QUESTION: if i were to take xanax 25 mg prescribed to me thursday night would it be out of my system by sunday evening driver i want to be responsible i have had some life changes that have caused anxiety and my doctor prescribed me to take 25 mg of xanax for only emergencies along with well butrin however i drive for a living and i do not want to take any chances with my livelihood i do not want to have any in my system while working i will not start if there is no way of avoiding this problem thank you `ANSWER: is thewhite 25mg xanax stronger than 0 5 yellow `QUESTION: my teeth have turned yellow `ANSWER: therasol when looking for an alternative to peridex [chlorhexidine gluconate oral rinse] `QUESTION: is it safe to take acai berry supplements with accupril metoprolol tartrate cardizem cd lipitor plavix and aspirin `ANSWER: i would have to say that is a pretty long list and as a pharmacist i am a little concerned about the fact that they are asking about acai berry if you have a cardiovascular condition and especially this particular patient has some things going on with their blood pressure i want to find out if maybe they had a previous heart attack or a stroke because they are on plavix i really would not recommend taking any type of vitamin or herbal supplement many patients today think that well it is herbal and it has to safe because it is a natural product we do not have that data we do not know and every time i see patients who have medication list like this i say them it is not worth risking a trip to the emergency room for something that you wanted to try so if they have any questions about this particular product or any other product come and talk to the pharmacist or the medication experts we will probably going to tell you that we do not have a lot of data on this and in this case it is better to be safe than sorry\n",
      ": i would have to say that is a pretty long list and as a pharmacist i am a little concerned about the fact that they are asking about acai berry if you have a cardiovascular condition and especially this particular patient has some things going on with their blood pressure i want to find out if maybe they had a previous heart attack or a stroke because they are on plavix i really would not recommend taking any type of vitamin or herbal supplement many patients today think that well it is herbal and it has to safe because it is a natural product we do not have that data we do not know and every time i see patients who have medication list like this i say them it is not worth risking a trip to the emergency room for something that you wanted to try so if they have any questions about this particular product or any other product come and talk to the pharmacist or the medication experts we will probably going to tell you that we do not have a lot of data on this and in this case it is better to be safe than sorry\n",
      ":  no  ac ai  b erry  supplements  are  safe  for  you  to  take  with  acc up ril  met op rol  tart rate  card iz em  cd  lip itor  pl av ix  and  aspirin  are  not  approved  for  use  with  acc up ril  met op rol  tart rate  card iz em  cd  lip itor  pl av ix  is  approved  for  use  with  acc up ril  met op rol  tart rate  card iz em  cd  lip itor  pl av ix  is  approved  for  use  with  acc up ril  met op rol  tart rate  card iz em  cd  lip itor  pl av ix  is  approved  for  use  with  acc up ril  met op rol  tart rate  card iz em  cd  lip itor  pl av ix  is  approved  for  use  with  acc up ril  met op rol  tart rate  card iz em  cd  lip itor  pl av ix  is  approved  for  use  with  acc up ril  met op rol  tart rate  card iz em  cd  lip itor  pl av ix  is  approved  for  use  with  acc up ril  met op rol  tart rate  card iz em  cd  lip itor  pl av ix  is  approved  for  use  with  acc up ril  met op rol  tart rate  card iz em  cd  lip itor  pl\n",
      "------------------\n"
     ]
    }
   ],
   "source": [
    "#displaying sample original context, expected answer and generated answer for train datset\n",
    "for i in range(5):\n",
    "  v,exp,fin=return_sample_output_predicted()\n",
    "  print(tokenizer.decode(v))\n",
    "  print(exp)\n",
    "  print(fin)\n",
    "  print('------------------')"
   ]
  },
  {
   "cell_type": "code",
   "execution_count": null,
   "metadata": {
    "id": "HDK6KiYQ1lIj"
   },
   "outputs": [],
   "source": [
    "\n",
    "#function to return sample origingal and generated answers for the validation dataset\n",
    "def return_validation_sample_output_predicted():\n",
    "  sample_data=next(iter(validation_gpt_train_dataset))\n",
    "  v=sample_data[0]['context'].numpy()[0]\n",
    "  mask_start = len(v) - list(v[::-1]).index(4600) + 1\n",
    "  input=v[:mask_start+1]\n",
    "  next_step_input=[]\n",
    "  input1=list(input)+next_step_input\n",
    "  final_output=[]\n",
    "  token_output=[]\n",
    "  for i in range(0,1024-len(input)):\n",
    "    input1=list(input1)+next_step_input\n",
    "    output=tf_gpt2_model([np.array(input1)])['logits']\n",
    "    output1=np.argmax(output,axis=1)\n",
    "    next_step_input=[output1[-1]]#appending last output to input\n",
    "    next_step_char=tokenizer.decode(next_step_input)\n",
    "    token_output.append(next_step_input[0])\n",
    "    final_output.append(next_step_char)\n",
    "  expected_output=v[mask_start+1:]\n",
    "  return v,tokenizer.decode(expected_output),tokenizer.decode(token_output)"
   ]
  },
  {
   "cell_type": "code",
   "execution_count": null,
   "metadata": {
    "colab": {
     "base_uri": "https://localhost:8080/"
    },
    "id": "DI6uE7iS_guB",
    "outputId": "43d94e8c-4d92-4d67-cbc0-94979e5e45e0"
   },
   "outputs": [
    {
     "name": "stdout",
     "output_type": "stream",
     "text": [
      " trauma the doctors now are saying not to take too much calcium suplements `QUESTION: what causes a sudden onset of vertigo while lying down or turning while lying down  within the last two weeks i have begun to experience sudden vertigo while lying down or just turning while lying down if i try to stand up i am completely disoriented i do not understand what is causing this i am not on any medication do not drink or smoke what could be causing this `ANSWER: in the last week i have begun to experience sudden vertigo while lying down if i try to to stand up i become completely disoriented what could be causing this i do take lisinopril 20mg and terazosin 5mg for prostrate do not smoke or drink `QUESTION: can a methylprednisolone injection in the spine cause muscle spasms  i had an steroid methylprednisolone injection in the sacroiliac joint 3 days ago and am now having severe muscle spasms at night mostly in the legs but in my fingers as well does this steroid have anything to do with the spasms `ANSWER: i had injections 6 days ago in low spine woke this morning with bad muscle cramps in my thighs and caves later in the day i even was having cramps in my shoulders i also had a headache in the top of my head that lasted most of the day i do not know if it is the medicine or the fluid loss from the shots it is nice seeing my ankles look normal again the steroids did that but maybe i lost too much fluid `QUESTION: 7 weeks after concussion still have nausea blurry vision i have been yawning a lot and my face has been hot ears red i got a concussion 6 weeks ago 4 weeks later i was feeling almost better but got hit in the head with a soft ball and all my symptoms came back now i still have very blurry vision which was completely nonexistent before i got hit the second time nausea and an occasional headache could this possibly be from stress related to the concussion i have been yawning a ton every day and sometimes my face and most specifically my ears will get red and hot what can i do to alleviate symptoms `ANSWER: my son has ha several concussion at least 5 from car wreck dr says they were mild but now he seems conused at lot like his memory comes and goes and he sometimes loose track of year and time `QUESTION: i am doing arobic type exercises lately my knee is getting stiff if i sit for over 5  10 mins returns after sitting i exercise daily low impact does the exercise effect my recovery should i rest this or change my type of exercise `ANSWER: my ortho physician had me stop exercising a few months ago due to stiffness and extreme swelling he actually ordered physical therapy and stopped it due to swelling increasing instead of decreasing `QUESTION: what are the symptoms of a brain tumor in adults `ANSWER: blurred vison `QUESTION: when i sit reclined back or lie down on my back or on my right side my leg goes numb from the hip down and causes cramps im just asking cuz im tired of just sleeping on my left side all the time `ANSWER: i used to have problems with my thigh going numb and fall asleep then cramp up if i stood or lay down for a while or in certain positions i sought out my chiropractor who found my spine was slightly misaligned and causing me to pinch the blood flow to my legs after 6 weeks of adjustments that went away entirely and has not returned it also had the added benefit of getting rid of my almost daily headaches `QUESTION: what exercises can i do 5 months after an l3 burst fracture  before i suffered a burst fracture in a vehicle accident 5 months ago i was working out 4 days a week i would like to get back into some sort of routine but am unsure of the types of exercises that would be safe my biggest concern is my core and it seems this would be the hardest area to work out given my injury `ANSWER: i had a t spine fusion after a compressionburst fracture and i was allowed to walk stationary bike elliptical isometrics swim and just basic low impact exercises for 1 year after surgery `QUESTION: what are the symptoms of migraine headaches `ANSWER: my eyes start to swell then comes the pounding on the left side of my top high temple sometimes i see things not common aurua i call then small black balls the spin and just move every where i look `QUESTION: i am having multiple problems after having my neck fusion of 5 6 7 `ANSWER: honestly to evaluate this problem we need to see a post operative x ray so we can view the situation of the vertebrae and the surgery commonly patient can have symptoms after fusion operations due to formation of adhesions in sites of surgery and mechanical changes meanwhile your symptoms are not just normal post operative symptoms specifically the legs symptoms as they may indicate problem with the surgery itself i recommend checking an orthopedic surgeon and an xray later physiotherapy will help you overcome most of these symptoms\n",
      ": honestly to evaluate this problem we need to see a post operative x ray so we can view the situation of the vertebrae and the surgery commonly patient can have symptoms after fusion operations due to formation of adhesions in sites of surgery and mechanical changes meanwhile your symptoms are not just normal post operative symptoms specifically the legs symptoms as they may indicate problem with the surgery itself i recommend checking an orthopedic surgeon and an xray later physiotherapy will help you overcome most of these symptoms\n",
      ": i am having multiple problems with my neck fusion of 6 7                                                                                    \n",
      "------------------\n",
      " knee is getting stiff if i sit for over 5  10 mins returns after sitting i exercise daily low impact does the exercise effect my recovery should i rest this or change my type of exercise `ANSWER: my ortho physician had me stop exercising a few months ago due to stiffness and extreme swelling he actually ordered physical therapy and stopped it due to swelling increasing instead of decreasing `QUESTION: i am feeling discomfort in chest i did ecg and chest x ray all normal `ANSWER: what do you do to overcome this feeling of shortness of breath do you raise up your head and sleep in 30 degrees position or you feel it in the very beginning only and once you enter your sleep everything becomes okay `QUESTION: if i am going to have heart surgery what questions should i ask my surgeon and cardiologist `ANSWER: how many of these types of procedures have you done how would you estimate my risk of a complication as compared to other patients what type of valve replacement or repair do you recommend and why where do you plan to obtain grafts legs arms chest wall for my bypass operation how soon can i travel after my surgery when do you anticipate that i can go back to work after surgery do you recommend a cardiac rehabilitation program or physical therapy to help speed up my recovery `QUESTION: what are the symptoms of migraine headaches `ANSWER: my eyes start to swell then comes the pounding on the left side of my top high temple sometimes i see things not common aurua i call then small black balls the spin and just move every where i look `QUESTION: what exercises can i do 5 months after an l3 burst fracture  before i suffered a burst fracture in a vehicle accident 5 months ago i was working out 4 days a week i would like to get back into some sort of routine but am unsure of the types of exercises that would be safe my biggest concern is my core and it seems this would be the hardest area to work out given my injury `ANSWER: i had a t spine fusion after a compressionburst fracture and i was allowed to walk stationary bike elliptical isometrics swim and just basic low impact exercises for 1 year after surgery `QUESTION: what causes a sudden onset of vertigo while lying down or turning while lying down  within the last two weeks i have begun to experience sudden vertigo while lying down or just turning while lying down if i try to stand up i am completely disoriented i do not understand what is causing this i am not on any medication do not drink or smoke what could be causing this `ANSWER: in the last week i have begun to experience sudden vertigo while lying down if i try to to stand up i become completely disoriented what could be causing this i do take lisinopril 20mg and terazosin 5mg for prostrate do not smoke or drink `QUESTION: i cant lift my left foot over the last couple of months ive noticed i cannot lift my left foot but the right one workes fine i have not injured myself i do have a little pain on my shin when i try to lift my foot a bunch of times as if i were exercising it there is no cramping or swelling `ANSWER: are you sore paralyzed have you seen a doctor `QUESTION: 7 weeks after concussion still have nausea blurry vision i have been yawning a lot and my face has been hot ears red i got a concussion 6 weeks ago 4 weeks later i was feeling almost better but got hit in the head with a soft ball and all my symptoms came back now i still have very blurry vision which was completely nonexistent before i got hit the second time nausea and an occasional headache could this possibly be from stress related to the concussion i have been yawning a ton every day and sometimes my face and most specifically my ears will get red and hot what can i do to alleviate symptoms `ANSWER: my son has ha several concussion at least 5 from car wreck dr says they were mild but now he seems conused at lot like his memory comes and goes and he sometimes loose track of year and time `QUESTION: i just had my 5th spinal fusion pain right now is all muscle related please advise `ANSWER: follow up question may i ask how much basic exercise like brisk walking should i be doing right now 17 days post op what is appropriate amount of rest during day if i am tired should i push through the way most any working single mom would `QUESTION: can i keep teaching zumba classes if i was diagnosed with a herniated disc `ANSWER: this is really something you need to check with your doctor because i do not know the details of your herniated disc if you are still in pain then absolutely not you need to give your body time to heal however once you have recovered you should be able to resume activities but you want to make sure you do not do anything to make the problem worse that is why you should check with your doctor your doctor may even suggest physical therapy depending on your condition to get your body back in shape before jumping back into zumba\n",
      ": this is really something you need to check with your doctor because i do not know the details of your herniated disc if you are still in pain then absolutely not you need to give your body time to heal however once you have recovered you should be able to resume activities but you want to make sure you do not do anything to make the problem worse that is why you should check with your doctor your doctor may even suggest physical therapy depending on your condition to get your body back in shape before jumping back into zumba\n",
      ": yes you can keep a zumba class if you are diagnosed with a herniated disc you can keep a zumba class if you are diagnosed with a herniated disc you can keep a zumba class if you are diagnosed with a herniated disc you can keep a zumba class if you are diagnosed with a herniated disc you can keep a zumba class if you are diagnosed with a herniated disc you can keep a zumba class if you are diagnosed with\n",
      "------------------\n",
      " yr old female with a lot of stress right now dr put me on effexor and i started not being able to sleep having bad headaches feeling lightheaded and constipated i took it for 2 weeks and he told me to stop when i called him he called me in something else but i am afraid to get it i have been on paxil prozac and celexa and never felt this horrible i have not taken anything in almost a week but feel lightheaded many times thoughout the day any ideas what could be wrong `ANSWER: thanks actually i had some bloodwork done and my vitamin d level was very low 7 i was put on 50 000 iu of a prescription vitamin d for 8 wks 1 a wk it is been 9 weeks tomorrow and now i am taking over the counter vitamin d am going back to dr next week to have blood checked again i felt better after the first 2 wks not dizzy not tired no more headaches then again i began feeling dizzy lightheaded alot and tired no energy i do not know what is going on but i will hopefully find out <positive_smiley> `QUESTION: does vicks inhaler contain any antihistamine `ANSWER: my grandson is contains camphor 41 53 and menthol 41 53 `QUESTION: what makes people crave sugar and carbs late at night `ANSWER: tastes good induces a feeling of comfort `QUESTION: diarrhea and stomach pain i have been having diarrhea for 6 days anything i take into my stomach will have to come out within 10 15 min but it will come out only a little at a time and have very bad stomach pain while using the bathroom i would have to wake up 5 6 times at night to use the bathroom but only little at a time comes out my stomach seem to hurt more if i lay down and also feeling a lot of back pain do not have any fever but a little head ahead here and there is this normal `ANSWER: abdinal painad diahrea `QUESTION: sore throat home remedies i went to the doctor today and she said i have a viral infection but my throat is hurting like crazy my voice is normally very high now it is hoarse and low it hurts to talk and to swallow i cough not too much and it hurts a lot i have no fever stuffed up nose headache or vomitingnausea is there any home remedies for this i am taking tylenol cold and flu and a few cough drops here and there i know she knows me best but some tipsold wives tales for a sore throat would be nice `ANSWER: i have always had success with hot green tea with honey `QUESTION: how much salt does a person need `ANSWER: about 1 teaspoon a day or 2300 mg for people ages two and up how much salt do we ingest on a daily basis on average about 50 more than that ouch and that extra salt raises blood pressure making the heart work harder and thus leading to heart disease `QUESTION: is there a nonprescription dieretic diurex does not work for me over the counter is my only option `ANSWER: i know of no effective over the counter diuretics why do not you see a medical provider to determine why you need a diuretic and have one prescribed for you `QUESTION: what are the symptoms of gastroenteritis `ANSWER: does crackers help with nausea `QUESTION: is protein powder good or bad `ANSWER: what are you using it for how much what kind of protein powder `QUESTION: can eating ginger cookies have same effects as ginger root `ANSWER: what kind of effects are you expecting from the ginger ginger root of course would have much more ginger than a cookie that may only be ginger flavored `QUESTION: how can i reduce salt in my food `ANSWER: everyone is telling us to reduce salt intake how can you do this and still have the opportunity to season food and keep it tasty try these herbal options you can use for meats poultry fish veggies soups and salads spicy blend 2 tablespoons dried savory crumbled 14 teaspoon freshly ground white pepper 1 tablespoon dry mustard 14 teaspoon ground cumin 2 12 teaspoons onion powder 12 teaspoon garlic powder 14 teaspoon curry powder saltless surprise 2 teaspoons garlic powder 1 teaspoon basil 1 teaspoon oregano 1 teaspoon powdered lemon rind or dehydrated lemon juice herb seasoning 2 tablespoons dried dill weed or basil leaves crumbled 1 teaspoon celery seed 2 tablespoons onion powder 14 teaspoon dried oregano leaves crumbled a pinch of freshly ground pepper spicy seasoning 1 teaspoon cloves 1 teaspoon pepper 2 teaspoons paprika 1 teaspoon coriander seed crushed 1 tablespoon rosemary `QUESTION: what foods contain vitamin k `ANSWER: the following foods are sources of vitamin k   green leafy vegetables including spinach kale collards romaine and green leaf lettuce   vegetables like brussels sprouts asparagus cabbage broccoli and cauliflower   oils like soybean canola and olive oil   foods of animal origin like fish liver meat and eggs in smaller amounts\n",
      ": the following foods are sources of vitamin k   green leafy vegetables including spinach kale collards romaine and green leaf lettuce   vegetables like brussels sprouts asparagus cabbage broccoli and cauliflower   oils like soybean canola and olive oil   foods of animal origin like fish liver meat and eggs in smaller amounts\n",
      ": vitamin k is a vitamin k supplement that is available in the u s and is available in the uk for people ages 2 and up vitamin k is a vitamin k supplement that is available in the u s and is available in the uk for people ages 2 and up vitamin k is a vitamin k supplement that is available in the u s\n",
      "------------------\n",
      " seed 2 tablespoons onion powder 14 teaspoon dried oregano leaves crumbled a pinch of freshly ground pepper spicy seasoning 1 teaspoon cloves 1 teaspoon pepper 2 teaspoons paprika 1 teaspoon coriander seed crushed 1 tablespoon rosemary `QUESTION: is protein powder good or bad `ANSWER: what are you using it for how much what kind of protein powder `QUESTION: is there some non prescription meds for a nebulizer to help clear my lungs `ANSWER: no other than normal saline `QUESTION: why do i feel lightheaded fatigued and sweat during sleeping no fever  i am an almost 37 yr old female with a lot of stress right now dr put me on effexor and i started not being able to sleep having bad headaches feeling lightheaded and constipated i took it for 2 weeks and he told me to stop when i called him he called me in something else but i am afraid to get it i have been on paxil prozac and celexa and never felt this horrible i have not taken anything in almost a week but feel lightheaded many times thoughout the day any ideas what could be wrong `ANSWER: thanks actually i had some bloodwork done and my vitamin d level was very low 7 i was put on 50 000 iu of a prescription vitamin d for 8 wks 1 a wk it is been 9 weeks tomorrow and now i am taking over the counter vitamin d am going back to dr next week to have blood checked again i felt better after the first 2 wks not dizzy not tired no more headaches then again i began feeling dizzy lightheaded alot and tired no energy i do not know what is going on but i will hopefully find out <positive_smiley> `QUESTION: is there a risk of liver damage if i take acetaminophen with my prescription pain medicine oxycodone  i have suffered for many years with low back pain in the past two years i have had to start taking prescription pain relievers currently i am taking roxycodone 15mg on as needed basis my dr said i could take over the counter pain relievers with the roxys if i was still experiencing pain i know there is a risk of liver damage more so with one than the other acetaminophen or ibuprofen so which is the best for me to take with my prescription pain meds thank you `ANSWER: due to the fact that my dr had me on 10650 hydrocodoneacetaminophen 8 x day for a few years my liver test were extreamly high he even called me personally and asked if i was alive not funny at the time he switched me to 10mg oxycodone and no acetaminophen what so ever ibuprofen is all i am allowed though my case may be rare i do not recommend acetaminophen to be taken daily ever be sure you know the warning signs as i was vomiting alot and very tired all the time for no reason `QUESTION: can eating ginger cookies have same effects as ginger root `ANSWER: what kind of effects are you expecting from the ginger ginger root of course would have much more ginger than a cookie that may only be ginger flavored `QUESTION: i have retro peritoneal fibrosis with an aortic aneurysm `ANSWER: lyrolin 150mg twice daily `QUESTION: what are the symptoms of gastroenteritis `ANSWER: does crackers help with nausea `QUESTION: if you have already started tamiflu can you still be tested for h1n1 `ANSWER: what would be the point if you have started tamiflu it is assumed that you started on day one or two after day three this medication is not indicated it really may not matter at this point the type of influenza you had assuming you were properly diagnosed unless you are getting worse or showing signs of a secondary infection rapid flu tests are not as accurate as lab based tests so i would need to know what kind of test you were anticipating `QUESTION: i have a prescription for hydrcodoneacetaminophen 7 5 500 t what does the t at the end mean `ANSWER: tablet `QUESTION: can i take benadryl with zyrtec my wife has hives on her chest and arms that just poped up last night `ANSWER: why would you want to take two antihistamines you may want to talk to a doctor and get a stronger prescription antihistamine if either of these are not very effective for you `QUESTION: does vicks inhaler contain any antihistamine `ANSWER: my grandson is contains camphor 41 53 and menthol 41 53 `QUESTION: what should i do if i suspect an overdose of vicodin es `ANSWER: if overdose is suspected contact a poison control center or emergency room immediately us residents can call the us national poison hotline at 1 800 222 1222 canada residents can call a provincial poison control center symptoms of overdose may include nausea vomiting unusual sweating slow breathing slow heartbeat loss of consciousness\n",
      ": if overdose is suspected contact a poison control center or emergency room immediately us residents can call the us national poison hotline at 1 800 222 1222 canada residents can call a provincial poison control center symptoms of overdose may include nausea vomiting unusual sweating slow breathing slow heartbeat loss of consciousness\n",
      ": if overdose is suspected contact a poison control center or emergency room immediately us residents can call the us national poison hotline at 1 800 222 1222 canada residents can call a provincial poison control center symptoms of overdose may include burning loss of consciousness confusion confusion confusion loss of consciousness confusion\n",
      "------------------\n",
      " taking advil before a run does not help either `QUESTION: what are the symptoms of prostate cancer `ANSWER: enlarged prostate and a high psa count `QUESTION: painful periods followed by abdominal pain and discharge my periods last for 5 days but always first 3 days are painful with heavy bleeding followed by abdominal pain which lasts for 4 days followed by vaginal dischargewhite odorless and without itchingburning till next period  me and my husband are monogamous never had sex with any one else and both of us are std free i am 38 mother of 3 kids  advise please `ANSWER: thank you nohard for the info my periods are mostly90 regular and never experienced the post menstrual blood neither have any disease or implants nor on the birth control pills so uterine incapacity hormonal imbalance or uterine cysts and disease may not be the cause almost 2 yrs ago gyna prescribed my a 14 days course of metronidazole and told me every thing is ok and nothing to worry about but i am not satisfied as the pain duringfirst 3 days and after periodsfor 4 days are severe also first 3 days of period are always with heavy bleeding should i ask my gyna to prescribed a test if yes please recommend `QUESTION: hi i had sex yesterday and after that got little blood but i am not virgin hi anyone please help me  i had sex yesterday and after that got little blood but i am not virgin today morning too i noticed little blood and upper part of my stomach is paining i took pregnancy test today morning it is negative my period is irregular after marriage will i be pregnant  or any other problem `ANSWER: hai thank you for ur answer we are having sex regularly for past 1 month my last period is july 30 i have 40 45 days cycle but when we did on sunday and after that i got blood coming out in little amount at morning evening and night the blood flow was not like i used to get periods and i also have pain in upper and sometimes down in my stomach i did home pregnancy test today it was negative `QUESTION: what are the early symptoms of pregnancy  i had sex on the 27th of may also was ovulating at the time and was wondering what are the early signs of pregnancy `ANSWER: i have been pregnant five times and each time my breasts were very tender even before i missed my next period `QUESTION: can i produce milk or watery white substance if i am not pregnant  it happened during sex he squeezes and sucks alot all the time maybe he is doing that too much or could i be pregnant tests have said i wasnt `ANSWER: i did a test a week ago and i redid it today still showing me as not pregnant i have a kidney infection a uti i am on birth control i was taking anti biotics could it be something to do with that i have never had this happen except for when i was breast feeding my daughter over 5 years ago its scary because i dont know what else it could be  `QUESTION: do all women get early symptoms of pregnancy `ANSWER: i think i am pregnant because i can feel something moving inside me `QUESTION: what are the early symptoms of pregnancy  i had sex on the 27th of may also was ovulating at the time and was wondering what are the early signs of pregnancy `ANSWER: i had a slight pain in that aria after having sex a day or two latter i felt my best then started getting sick to my stomach never missed my next monthly so i just thought i dad the flu the next monthly i missed and found out i was having twins `QUESTION: i can see white patches and a big red patch with a white spot on it in my mouth `ANSWER: hi i can see nothing do u take vitamins are you a female possible metalic taste with pregnancy  `QUESTION: during second pregnancies how long before labor starts once you loss your plug `ANSWER: completely unpredictable `QUESTION: is it safe to have an overian cyst while pregnant `ANSWER: i was found with an ovarian cyst in the first month of pregnancy it disappeared in the 3rd month doctor asked me to continue pregnancy and asked to do a scan after delivery to see if it still exists the post delivery scan showed no big cysts but doctor said mine is a poly cystic ovary and hence will have small cysts my daughter is now 6yrs old and i continue to have a poly cystic ovary `QUESTION: im in 4th month pregnant now i reduced 2 kilos of weight is there any risk `ANSWER: i want an answer i am not hear to answer `QUESTION: getting joint pains after the pregnancy `ANSWER: hi causes could be simple as calcium deficiency or remaining part or placenta undetatched or even an autoimmune disease triggered by pregnancy you need to do serum relaxin test and c reactive protein test as a start a full autoimmune antibody test is advisable until then stay on vitamine d and calcium supplements good luck\n",
      ": hi causes could be simple as calcium deficiency or remaining part or placenta undetatched or even an autoimmune disease triggered by pregnancy you need to do serum relaxin test and c reactive protein test as a start a full autoimmune antibody test is advisable until then stay on vitamine d and calcium supplements good luck\n",
      ": i am not aware of any studies that have been done to show that joint pain is related to pregnancy or pregnancy but i am not aware of any studies that have been done to show that joint pain is related to pregnancy or pregnancy if you are having joint pain you should consult a medical provider for a referral\n",
      "------------------\n"
     ]
    }
   ],
   "source": [
    "#displaying sample original context, expected answer and generated answer for validation datset\n",
    "for i in range(5):\n",
    "  v,exp,fin=return_validation_sample_output_predicted()\n",
    "  print(tokenizer.decode(v))\n",
    "  print(exp)\n",
    "  print(fin)\n",
    "  print('------------------')"
   ]
  },
  {
   "cell_type": "code",
   "execution_count": null,
   "metadata": {
    "id": "mYJWo_Pm_j6i"
   },
   "outputs": [],
   "source": []
  }
 ],
 "metadata": {
  "accelerator": "GPU",
  "colab": {
   "collapsed_sections": [],
   "machine_shape": "hm",
   "name": "GPT Model.ipynb",
   "provenance": []
  },
  "kernelspec": {
   "display_name": "Python 3",
   "language": "python",
   "name": "python3"
  },
  "language_info": {
   "codemirror_mode": {
    "name": "ipython",
    "version": 3
   },
   "file_extension": ".py",
   "mimetype": "text/x-python",
   "name": "python",
   "nbconvert_exporter": "python",
   "pygments_lexer": "ipython3",
   "version": "3.8.5"
  },
  "widgets": {
   "application/vnd.jupyter.widget-state+json": {
    "01bbe15f508447939d161f7d0d092091": {
     "model_module": "@jupyter-widgets/controls",
     "model_name": "ProgressStyleModel",
     "state": {
      "_model_module": "@jupyter-widgets/controls",
      "_model_module_version": "1.5.0",
      "_model_name": "ProgressStyleModel",
      "_view_count": null,
      "_view_module": "@jupyter-widgets/base",
      "_view_module_version": "1.2.0",
      "_view_name": "StyleView",
      "bar_color": null,
      "description_width": "initial"
     }
    },
    "08afbc1f7e304a0189a886cff0d11644": {
     "model_module": "@jupyter-widgets/controls",
     "model_name": "HTMLModel",
     "state": {
      "_dom_classes": [],
      "_model_module": "@jupyter-widgets/controls",
      "_model_module_version": "1.5.0",
      "_model_name": "HTMLModel",
      "_view_count": null,
      "_view_module": "@jupyter-widgets/controls",
      "_view_module_version": "1.5.0",
      "_view_name": "HTMLView",
      "description": "",
      "description_tooltip": null,
      "layout": "IPY_MODEL_ea7f47fac7184e15aef8c23cb90d1340",
      "placeholder": "​",
      "style": "IPY_MODEL_88b98d3f951d4b598992505acd5afccf",
      "value": " 23802/23802 [00:00&lt;00:00, 57331.66it/s]"
     }
    },
    "08db9b67bef24f4c95186436ee0d03db": {
     "model_module": "@jupyter-widgets/controls",
     "model_name": "DescriptionStyleModel",
     "state": {
      "_model_module": "@jupyter-widgets/controls",
      "_model_module_version": "1.5.0",
      "_model_name": "DescriptionStyleModel",
      "_view_count": null,
      "_view_module": "@jupyter-widgets/base",
      "_view_module_version": "1.2.0",
      "_view_name": "StyleView",
      "description_width": ""
     }
    },
    "0e765284ddba47ebae880a9fc2f6f753": {
     "model_module": "@jupyter-widgets/base",
     "model_name": "LayoutModel",
     "state": {
      "_model_module": "@jupyter-widgets/base",
      "_model_module_version": "1.2.0",
      "_model_name": "LayoutModel",
      "_view_count": null,
      "_view_module": "@jupyter-widgets/base",
      "_view_module_version": "1.2.0",
      "_view_name": "LayoutView",
      "align_content": null,
      "align_items": null,
      "align_self": null,
      "border": null,
      "bottom": null,
      "display": null,
      "flex": null,
      "flex_flow": null,
      "grid_area": null,
      "grid_auto_columns": null,
      "grid_auto_flow": null,
      "grid_auto_rows": null,
      "grid_column": null,
      "grid_gap": null,
      "grid_row": null,
      "grid_template_areas": null,
      "grid_template_columns": null,
      "grid_template_rows": null,
      "height": null,
      "justify_content": null,
      "justify_items": null,
      "left": null,
      "margin": null,
      "max_height": null,
      "max_width": null,
      "min_height": null,
      "min_width": null,
      "object_fit": null,
      "object_position": null,
      "order": null,
      "overflow": null,
      "overflow_x": null,
      "overflow_y": null,
      "padding": null,
      "right": null,
      "top": null,
      "visibility": null,
      "width": null
     }
    },
    "1234bbe2ae46418e885a82ce4258bb6b": {
     "model_module": "@jupyter-widgets/controls",
     "model_name": "ProgressStyleModel",
     "state": {
      "_model_module": "@jupyter-widgets/controls",
      "_model_module_version": "1.5.0",
      "_model_name": "ProgressStyleModel",
      "_view_count": null,
      "_view_module": "@jupyter-widgets/base",
      "_view_module_version": "1.2.0",
      "_view_name": "StyleView",
      "bar_color": null,
      "description_width": "initial"
     }
    },
    "1a339d36c1ad4ebebf44ee491b2ce73d": {
     "model_module": "@jupyter-widgets/controls",
     "model_name": "HTMLModel",
     "state": {
      "_dom_classes": [],
      "_model_module": "@jupyter-widgets/controls",
      "_model_module_version": "1.5.0",
      "_model_name": "HTMLModel",
      "_view_count": null,
      "_view_module": "@jupyter-widgets/controls",
      "_view_module_version": "1.5.0",
      "_view_name": "HTMLView",
      "description": "",
      "description_tooltip": null,
      "layout": "IPY_MODEL_ec284cbe762d47b585838b944dc5c922",
      "placeholder": "​",
      "style": "IPY_MODEL_9b1b7f91cfb54cc3be931c1c68e83aba",
      "value": " 5950/5950 [30:47&lt;00:00,  3.22it/s]"
     }
    },
    "1cc35afa713b4d1697ff259a267a661c": {
     "model_module": "@jupyter-widgets/controls",
     "model_name": "DescriptionStyleModel",
     "state": {
      "_model_module": "@jupyter-widgets/controls",
      "_model_module_version": "1.5.0",
      "_model_name": "DescriptionStyleModel",
      "_view_count": null,
      "_view_module": "@jupyter-widgets/base",
      "_view_module_version": "1.2.0",
      "_view_name": "StyleView",
      "description_width": ""
     }
    },
    "322996f04f2c4c07aefc3ecaeb294bcf": {
     "model_module": "@jupyter-widgets/controls",
     "model_name": "HTMLModel",
     "state": {
      "_dom_classes": [],
      "_model_module": "@jupyter-widgets/controls",
      "_model_module_version": "1.5.0",
      "_model_name": "HTMLModel",
      "_view_count": null,
      "_view_module": "@jupyter-widgets/controls",
      "_view_module_version": "1.5.0",
      "_view_name": "HTMLView",
      "description": "",
      "description_tooltip": null,
      "layout": "IPY_MODEL_866774806f1142b5a214d04fc118ea0f",
      "placeholder": "​",
      "style": "IPY_MODEL_6df1e7b1b8a645c6bf16addde95c314a",
      "value": " 23802/23802 [00:12&lt;00:00, 1838.43it/s]"
     }
    },
    "399c8ab0edc74cb09a0d46ef4b22b14d": {
     "model_module": "@jupyter-widgets/controls",
     "model_name": "HBoxModel",
     "state": {
      "_dom_classes": [],
      "_model_module": "@jupyter-widgets/controls",
      "_model_module_version": "1.5.0",
      "_model_name": "HBoxModel",
      "_view_count": null,
      "_view_module": "@jupyter-widgets/controls",
      "_view_module_version": "1.5.0",
      "_view_name": "HBoxView",
      "box_style": "",
      "children": [
       "IPY_MODEL_fa362dc6e9474711a2ff3d9cb10f5139",
       "IPY_MODEL_88f93a7a972d4959972d18f033f4a514"
      ],
      "layout": "IPY_MODEL_85908616a6014fb4b29a40f846df83d5"
     }
    },
    "39d064318fba478ab70d8add7283f0bd": {
     "model_module": "@jupyter-widgets/controls",
     "model_name": "FloatProgressModel",
     "state": {
      "_dom_classes": [],
      "_model_module": "@jupyter-widgets/controls",
      "_model_module_version": "1.5.0",
      "_model_name": "FloatProgressModel",
      "_view_count": null,
      "_view_module": "@jupyter-widgets/controls",
      "_view_module_version": "1.5.0",
      "_view_name": "ProgressView",
      "bar_style": "success",
      "description": "100%",
      "description_tooltip": null,
      "layout": "IPY_MODEL_43efa1c816e341edae986ee1b9fbf7e4",
      "max": 23802,
      "min": 0,
      "orientation": "horizontal",
      "style": "IPY_MODEL_47e234e94ff54112b1027e846b40c3c7",
      "value": 23802
     }
    },
    "43efa1c816e341edae986ee1b9fbf7e4": {
     "model_module": "@jupyter-widgets/base",
     "model_name": "LayoutModel",
     "state": {
      "_model_module": "@jupyter-widgets/base",
      "_model_module_version": "1.2.0",
      "_model_name": "LayoutModel",
      "_view_count": null,
      "_view_module": "@jupyter-widgets/base",
      "_view_module_version": "1.2.0",
      "_view_name": "LayoutView",
      "align_content": null,
      "align_items": null,
      "align_self": null,
      "border": null,
      "bottom": null,
      "display": null,
      "flex": null,
      "flex_flow": null,
      "grid_area": null,
      "grid_auto_columns": null,
      "grid_auto_flow": null,
      "grid_auto_rows": null,
      "grid_column": null,
      "grid_gap": null,
      "grid_row": null,
      "grid_template_areas": null,
      "grid_template_columns": null,
      "grid_template_rows": null,
      "height": null,
      "justify_content": null,
      "justify_items": null,
      "left": null,
      "margin": null,
      "max_height": null,
      "max_width": null,
      "min_height": null,
      "min_width": null,
      "object_fit": null,
      "object_position": null,
      "order": null,
      "overflow": null,
      "overflow_x": null,
      "overflow_y": null,
      "padding": null,
      "right": null,
      "top": null,
      "visibility": null,
      "width": null
     }
    },
    "47838997dbce46d8bd928d12aca17b6f": {
     "model_module": "@jupyter-widgets/controls",
     "model_name": "DescriptionStyleModel",
     "state": {
      "_model_module": "@jupyter-widgets/controls",
      "_model_module_version": "1.5.0",
      "_model_name": "DescriptionStyleModel",
      "_view_count": null,
      "_view_module": "@jupyter-widgets/base",
      "_view_module_version": "1.2.0",
      "_view_name": "StyleView",
      "description_width": ""
     }
    },
    "47e234e94ff54112b1027e846b40c3c7": {
     "model_module": "@jupyter-widgets/controls",
     "model_name": "ProgressStyleModel",
     "state": {
      "_model_module": "@jupyter-widgets/controls",
      "_model_module_version": "1.5.0",
      "_model_name": "ProgressStyleModel",
      "_view_count": null,
      "_view_module": "@jupyter-widgets/base",
      "_view_module_version": "1.2.0",
      "_view_name": "StyleView",
      "bar_color": null,
      "description_width": "initial"
     }
    },
    "4a5dc916449d4b9aac7e4757c0b04ada": {
     "model_module": "@jupyter-widgets/controls",
     "model_name": "FloatProgressModel",
     "state": {
      "_dom_classes": [],
      "_model_module": "@jupyter-widgets/controls",
      "_model_module_version": "1.5.0",
      "_model_name": "FloatProgressModel",
      "_view_count": null,
      "_view_module": "@jupyter-widgets/controls",
      "_view_module_version": "1.5.0",
      "_view_name": "ProgressView",
      "bar_style": "success",
      "description": "100%",
      "description_tooltip": null,
      "layout": "IPY_MODEL_8e60e9628d4e4fcb95e038b8c9ecc7fb",
      "max": 23802,
      "min": 0,
      "orientation": "horizontal",
      "style": "IPY_MODEL_a3db468c43b94d4187c43d1b56af5e6d",
      "value": 23802
     }
    },
    "4db751019200481c8677dff7b44617d0": {
     "model_module": "@jupyter-widgets/controls",
     "model_name": "HTMLModel",
     "state": {
      "_dom_classes": [],
      "_model_module": "@jupyter-widgets/controls",
      "_model_module_version": "1.5.0",
      "_model_name": "HTMLModel",
      "_view_count": null,
      "_view_module": "@jupyter-widgets/controls",
      "_view_module_version": "1.5.0",
      "_view_name": "HTMLView",
      "description": "",
      "description_tooltip": null,
      "layout": "IPY_MODEL_0e765284ddba47ebae880a9fc2f6f753",
      "placeholder": "​",
      "style": "IPY_MODEL_67f9b4720ee64a44ae3ca5b6357dcd36",
      "value": " 23802/23802 [30:58&lt;00:00, 12.81it/s]"
     }
    },
    "553f86828f944c4e97ae99345f6e8388": {
     "model_module": "@jupyter-widgets/base",
     "model_name": "LayoutModel",
     "state": {
      "_model_module": "@jupyter-widgets/base",
      "_model_module_version": "1.2.0",
      "_model_name": "LayoutModel",
      "_view_count": null,
      "_view_module": "@jupyter-widgets/base",
      "_view_module_version": "1.2.0",
      "_view_name": "LayoutView",
      "align_content": null,
      "align_items": null,
      "align_self": null,
      "border": null,
      "bottom": null,
      "display": null,
      "flex": null,
      "flex_flow": null,
      "grid_area": null,
      "grid_auto_columns": null,
      "grid_auto_flow": null,
      "grid_auto_rows": null,
      "grid_column": null,
      "grid_gap": null,
      "grid_row": null,
      "grid_template_areas": null,
      "grid_template_columns": null,
      "grid_template_rows": null,
      "height": null,
      "justify_content": null,
      "justify_items": null,
      "left": null,
      "margin": null,
      "max_height": null,
      "max_width": null,
      "min_height": null,
      "min_width": null,
      "object_fit": null,
      "object_position": null,
      "order": null,
      "overflow": null,
      "overflow_x": null,
      "overflow_y": null,
      "padding": null,
      "right": null,
      "top": null,
      "visibility": null,
      "width": null
     }
    },
    "5f12b40490534661860f8695dc399be1": {
     "model_module": "@jupyter-widgets/controls",
     "model_name": "HTMLModel",
     "state": {
      "_dom_classes": [],
      "_model_module": "@jupyter-widgets/controls",
      "_model_module_version": "1.5.0",
      "_model_name": "HTMLModel",
      "_view_count": null,
      "_view_module": "@jupyter-widgets/controls",
      "_view_module_version": "1.5.0",
      "_view_name": "HTMLView",
      "description": "",
      "description_tooltip": null,
      "layout": "IPY_MODEL_b214f90fcafc4cca8c694697d3a9c935",
      "placeholder": "​",
      "style": "IPY_MODEL_1cc35afa713b4d1697ff259a267a661c",
      "value": " 23802/23802 [30:05&lt;00:00, 13.18it/s]"
     }
    },
    "60feccfae9924810bedee359c8636ba6": {
     "model_module": "@jupyter-widgets/base",
     "model_name": "LayoutModel",
     "state": {
      "_model_module": "@jupyter-widgets/base",
      "_model_module_version": "1.2.0",
      "_model_name": "LayoutModel",
      "_view_count": null,
      "_view_module": "@jupyter-widgets/base",
      "_view_module_version": "1.2.0",
      "_view_name": "LayoutView",
      "align_content": null,
      "align_items": null,
      "align_self": null,
      "border": null,
      "bottom": null,
      "display": null,
      "flex": null,
      "flex_flow": null,
      "grid_area": null,
      "grid_auto_columns": null,
      "grid_auto_flow": null,
      "grid_auto_rows": null,
      "grid_column": null,
      "grid_gap": null,
      "grid_row": null,
      "grid_template_areas": null,
      "grid_template_columns": null,
      "grid_template_rows": null,
      "height": null,
      "justify_content": null,
      "justify_items": null,
      "left": null,
      "margin": null,
      "max_height": null,
      "max_width": null,
      "min_height": null,
      "min_width": null,
      "object_fit": null,
      "object_position": null,
      "order": null,
      "overflow": null,
      "overflow_x": null,
      "overflow_y": null,
      "padding": null,
      "right": null,
      "top": null,
      "visibility": null,
      "width": null
     }
    },
    "67f9b4720ee64a44ae3ca5b6357dcd36": {
     "model_module": "@jupyter-widgets/controls",
     "model_name": "DescriptionStyleModel",
     "state": {
      "_model_module": "@jupyter-widgets/controls",
      "_model_module_version": "1.5.0",
      "_model_name": "DescriptionStyleModel",
      "_view_count": null,
      "_view_module": "@jupyter-widgets/base",
      "_view_module_version": "1.2.0",
      "_view_name": "StyleView",
      "description_width": ""
     }
    },
    "6806000db46349fcbe165afbcc2a43bd": {
     "model_module": "@jupyter-widgets/base",
     "model_name": "LayoutModel",
     "state": {
      "_model_module": "@jupyter-widgets/base",
      "_model_module_version": "1.2.0",
      "_model_name": "LayoutModel",
      "_view_count": null,
      "_view_module": "@jupyter-widgets/base",
      "_view_module_version": "1.2.0",
      "_view_name": "LayoutView",
      "align_content": null,
      "align_items": null,
      "align_self": null,
      "border": null,
      "bottom": null,
      "display": null,
      "flex": null,
      "flex_flow": null,
      "grid_area": null,
      "grid_auto_columns": null,
      "grid_auto_flow": null,
      "grid_auto_rows": null,
      "grid_column": null,
      "grid_gap": null,
      "grid_row": null,
      "grid_template_areas": null,
      "grid_template_columns": null,
      "grid_template_rows": null,
      "height": null,
      "justify_content": null,
      "justify_items": null,
      "left": null,
      "margin": null,
      "max_height": null,
      "max_width": null,
      "min_height": null,
      "min_width": null,
      "object_fit": null,
      "object_position": null,
      "order": null,
      "overflow": null,
      "overflow_x": null,
      "overflow_y": null,
      "padding": null,
      "right": null,
      "top": null,
      "visibility": null,
      "width": null
     }
    },
    "6c58aa138acf4ee09e1057aaa63f689f": {
     "model_module": "@jupyter-widgets/base",
     "model_name": "LayoutModel",
     "state": {
      "_model_module": "@jupyter-widgets/base",
      "_model_module_version": "1.2.0",
      "_model_name": "LayoutModel",
      "_view_count": null,
      "_view_module": "@jupyter-widgets/base",
      "_view_module_version": "1.2.0",
      "_view_name": "LayoutView",
      "align_content": null,
      "align_items": null,
      "align_self": null,
      "border": null,
      "bottom": null,
      "display": null,
      "flex": null,
      "flex_flow": null,
      "grid_area": null,
      "grid_auto_columns": null,
      "grid_auto_flow": null,
      "grid_auto_rows": null,
      "grid_column": null,
      "grid_gap": null,
      "grid_row": null,
      "grid_template_areas": null,
      "grid_template_columns": null,
      "grid_template_rows": null,
      "height": null,
      "justify_content": null,
      "justify_items": null,
      "left": null,
      "margin": null,
      "max_height": null,
      "max_width": null,
      "min_height": null,
      "min_width": null,
      "object_fit": null,
      "object_position": null,
      "order": null,
      "overflow": null,
      "overflow_x": null,
      "overflow_y": null,
      "padding": null,
      "right": null,
      "top": null,
      "visibility": null,
      "width": null
     }
    },
    "6df1e7b1b8a645c6bf16addde95c314a": {
     "model_module": "@jupyter-widgets/controls",
     "model_name": "DescriptionStyleModel",
     "state": {
      "_model_module": "@jupyter-widgets/controls",
      "_model_module_version": "1.5.0",
      "_model_name": "DescriptionStyleModel",
      "_view_count": null,
      "_view_module": "@jupyter-widgets/base",
      "_view_module_version": "1.2.0",
      "_view_name": "StyleView",
      "description_width": ""
     }
    },
    "7040346148f9469cbc64f31321ac8de2": {
     "model_module": "@jupyter-widgets/controls",
     "model_name": "HBoxModel",
     "state": {
      "_dom_classes": [],
      "_model_module": "@jupyter-widgets/controls",
      "_model_module_version": "1.5.0",
      "_model_name": "HBoxModel",
      "_view_count": null,
      "_view_module": "@jupyter-widgets/controls",
      "_view_module_version": "1.5.0",
      "_view_name": "HBoxView",
      "box_style": "",
      "children": [
       "IPY_MODEL_39d064318fba478ab70d8add7283f0bd",
       "IPY_MODEL_08afbc1f7e304a0189a886cff0d11644"
      ],
      "layout": "IPY_MODEL_6c58aa138acf4ee09e1057aaa63f689f"
     }
    },
    "75df428c55fb417a9fc6ee224b29d71f": {
     "model_module": "@jupyter-widgets/controls",
     "model_name": "HBoxModel",
     "state": {
      "_dom_classes": [],
      "_model_module": "@jupyter-widgets/controls",
      "_model_module_version": "1.5.0",
      "_model_name": "HBoxModel",
      "_view_count": null,
      "_view_module": "@jupyter-widgets/controls",
      "_view_module_version": "1.5.0",
      "_view_name": "HBoxView",
      "box_style": "",
      "children": [
       "IPY_MODEL_b27515bcf1e5438191573c170abcd954",
       "IPY_MODEL_bafaa11a05124cadaf19211196664d6e"
      ],
      "layout": "IPY_MODEL_9ddd8b7e0ccc492c859abb97185c01be"
     }
    },
    "78a28b52b02a40d690ee302d9788559b": {
     "model_module": "@jupyter-widgets/controls",
     "model_name": "FloatProgressModel",
     "state": {
      "_dom_classes": [],
      "_model_module": "@jupyter-widgets/controls",
      "_model_module_version": "1.5.0",
      "_model_name": "FloatProgressModel",
      "_view_count": null,
      "_view_module": "@jupyter-widgets/controls",
      "_view_module_version": "1.5.0",
      "_view_name": "ProgressView",
      "bar_style": "success",
      "description": "100%",
      "description_tooltip": null,
      "layout": "IPY_MODEL_b5155b31da344069a5687207b858212e",
      "max": 5950,
      "min": 0,
      "orientation": "horizontal",
      "style": "IPY_MODEL_8cfe393e01574e5fa810ecb572f46d91",
      "value": 5950
     }
    },
    "7a41faee812d4244855e2f953ffd59f5": {
     "model_module": "@jupyter-widgets/base",
     "model_name": "LayoutModel",
     "state": {
      "_model_module": "@jupyter-widgets/base",
      "_model_module_version": "1.2.0",
      "_model_name": "LayoutModel",
      "_view_count": null,
      "_view_module": "@jupyter-widgets/base",
      "_view_module_version": "1.2.0",
      "_view_name": "LayoutView",
      "align_content": null,
      "align_items": null,
      "align_self": null,
      "border": null,
      "bottom": null,
      "display": null,
      "flex": null,
      "flex_flow": null,
      "grid_area": null,
      "grid_auto_columns": null,
      "grid_auto_flow": null,
      "grid_auto_rows": null,
      "grid_column": null,
      "grid_gap": null,
      "grid_row": null,
      "grid_template_areas": null,
      "grid_template_columns": null,
      "grid_template_rows": null,
      "height": null,
      "justify_content": null,
      "justify_items": null,
      "left": null,
      "margin": null,
      "max_height": null,
      "max_width": null,
      "min_height": null,
      "min_width": null,
      "object_fit": null,
      "object_position": null,
      "order": null,
      "overflow": null,
      "overflow_x": null,
      "overflow_y": null,
      "padding": null,
      "right": null,
      "top": null,
      "visibility": null,
      "width": null
     }
    },
    "7aad7c80a12947a78f16fb87df8b723f": {
     "model_module": "@jupyter-widgets/controls",
     "model_name": "HTMLModel",
     "state": {
      "_dom_classes": [],
      "_model_module": "@jupyter-widgets/controls",
      "_model_module_version": "1.5.0",
      "_model_name": "HTMLModel",
      "_view_count": null,
      "_view_module": "@jupyter-widgets/controls",
      "_view_module_version": "1.5.0",
      "_view_name": "HTMLView",
      "description": "",
      "description_tooltip": null,
      "layout": "IPY_MODEL_b27966b4967d46ebb4d71371704a1097",
      "placeholder": "​",
      "style": "IPY_MODEL_47838997dbce46d8bd928d12aca17b6f",
      "value": " 5950/5950 [00:00&lt;00:00, 35768.96it/s]"
     }
    },
    "7c078537eca84b85aae0ccb1e32027e9": {
     "model_module": "@jupyter-widgets/base",
     "model_name": "LayoutModel",
     "state": {
      "_model_module": "@jupyter-widgets/base",
      "_model_module_version": "1.2.0",
      "_model_name": "LayoutModel",
      "_view_count": null,
      "_view_module": "@jupyter-widgets/base",
      "_view_module_version": "1.2.0",
      "_view_name": "LayoutView",
      "align_content": null,
      "align_items": null,
      "align_self": null,
      "border": null,
      "bottom": null,
      "display": null,
      "flex": null,
      "flex_flow": null,
      "grid_area": null,
      "grid_auto_columns": null,
      "grid_auto_flow": null,
      "grid_auto_rows": null,
      "grid_column": null,
      "grid_gap": null,
      "grid_row": null,
      "grid_template_areas": null,
      "grid_template_columns": null,
      "grid_template_rows": null,
      "height": null,
      "justify_content": null,
      "justify_items": null,
      "left": null,
      "margin": null,
      "max_height": null,
      "max_width": null,
      "min_height": null,
      "min_width": null,
      "object_fit": null,
      "object_position": null,
      "order": null,
      "overflow": null,
      "overflow_x": null,
      "overflow_y": null,
      "padding": null,
      "right": null,
      "top": null,
      "visibility": null,
      "width": null
     }
    },
    "7c83c02c7fa64084bce3bce7e6faf28a": {
     "model_module": "@jupyter-widgets/base",
     "model_name": "LayoutModel",
     "state": {
      "_model_module": "@jupyter-widgets/base",
      "_model_module_version": "1.2.0",
      "_model_name": "LayoutModel",
      "_view_count": null,
      "_view_module": "@jupyter-widgets/base",
      "_view_module_version": "1.2.0",
      "_view_name": "LayoutView",
      "align_content": null,
      "align_items": null,
      "align_self": null,
      "border": null,
      "bottom": null,
      "display": null,
      "flex": null,
      "flex_flow": null,
      "grid_area": null,
      "grid_auto_columns": null,
      "grid_auto_flow": null,
      "grid_auto_rows": null,
      "grid_column": null,
      "grid_gap": null,
      "grid_row": null,
      "grid_template_areas": null,
      "grid_template_columns": null,
      "grid_template_rows": null,
      "height": null,
      "justify_content": null,
      "justify_items": null,
      "left": null,
      "margin": null,
      "max_height": null,
      "max_width": null,
      "min_height": null,
      "min_width": null,
      "object_fit": null,
      "object_position": null,
      "order": null,
      "overflow": null,
      "overflow_x": null,
      "overflow_y": null,
      "padding": null,
      "right": null,
      "top": null,
      "visibility": null,
      "width": null
     }
    },
    "7d1ab512020e4f7fb28a6d6b33a1694e": {
     "model_module": "@jupyter-widgets/base",
     "model_name": "LayoutModel",
     "state": {
      "_model_module": "@jupyter-widgets/base",
      "_model_module_version": "1.2.0",
      "_model_name": "LayoutModel",
      "_view_count": null,
      "_view_module": "@jupyter-widgets/base",
      "_view_module_version": "1.2.0",
      "_view_name": "LayoutView",
      "align_content": null,
      "align_items": null,
      "align_self": null,
      "border": null,
      "bottom": null,
      "display": null,
      "flex": null,
      "flex_flow": null,
      "grid_area": null,
      "grid_auto_columns": null,
      "grid_auto_flow": null,
      "grid_auto_rows": null,
      "grid_column": null,
      "grid_gap": null,
      "grid_row": null,
      "grid_template_areas": null,
      "grid_template_columns": null,
      "grid_template_rows": null,
      "height": null,
      "justify_content": null,
      "justify_items": null,
      "left": null,
      "margin": null,
      "max_height": null,
      "max_width": null,
      "min_height": null,
      "min_width": null,
      "object_fit": null,
      "object_position": null,
      "order": null,
      "overflow": null,
      "overflow_x": null,
      "overflow_y": null,
      "padding": null,
      "right": null,
      "top": null,
      "visibility": null,
      "width": null
     }
    },
    "85908616a6014fb4b29a40f846df83d5": {
     "model_module": "@jupyter-widgets/base",
     "model_name": "LayoutModel",
     "state": {
      "_model_module": "@jupyter-widgets/base",
      "_model_module_version": "1.2.0",
      "_model_name": "LayoutModel",
      "_view_count": null,
      "_view_module": "@jupyter-widgets/base",
      "_view_module_version": "1.2.0",
      "_view_name": "LayoutView",
      "align_content": null,
      "align_items": null,
      "align_self": null,
      "border": null,
      "bottom": null,
      "display": null,
      "flex": null,
      "flex_flow": null,
      "grid_area": null,
      "grid_auto_columns": null,
      "grid_auto_flow": null,
      "grid_auto_rows": null,
      "grid_column": null,
      "grid_gap": null,
      "grid_row": null,
      "grid_template_areas": null,
      "grid_template_columns": null,
      "grid_template_rows": null,
      "height": null,
      "justify_content": null,
      "justify_items": null,
      "left": null,
      "margin": null,
      "max_height": null,
      "max_width": null,
      "min_height": null,
      "min_width": null,
      "object_fit": null,
      "object_position": null,
      "order": null,
      "overflow": null,
      "overflow_x": null,
      "overflow_y": null,
      "padding": null,
      "right": null,
      "top": null,
      "visibility": null,
      "width": null
     }
    },
    "866774806f1142b5a214d04fc118ea0f": {
     "model_module": "@jupyter-widgets/base",
     "model_name": "LayoutModel",
     "state": {
      "_model_module": "@jupyter-widgets/base",
      "_model_module_version": "1.2.0",
      "_model_name": "LayoutModel",
      "_view_count": null,
      "_view_module": "@jupyter-widgets/base",
      "_view_module_version": "1.2.0",
      "_view_name": "LayoutView",
      "align_content": null,
      "align_items": null,
      "align_self": null,
      "border": null,
      "bottom": null,
      "display": null,
      "flex": null,
      "flex_flow": null,
      "grid_area": null,
      "grid_auto_columns": null,
      "grid_auto_flow": null,
      "grid_auto_rows": null,
      "grid_column": null,
      "grid_gap": null,
      "grid_row": null,
      "grid_template_areas": null,
      "grid_template_columns": null,
      "grid_template_rows": null,
      "height": null,
      "justify_content": null,
      "justify_items": null,
      "left": null,
      "margin": null,
      "max_height": null,
      "max_width": null,
      "min_height": null,
      "min_width": null,
      "object_fit": null,
      "object_position": null,
      "order": null,
      "overflow": null,
      "overflow_x": null,
      "overflow_y": null,
      "padding": null,
      "right": null,
      "top": null,
      "visibility": null,
      "width": null
     }
    },
    "88b98d3f951d4b598992505acd5afccf": {
     "model_module": "@jupyter-widgets/controls",
     "model_name": "DescriptionStyleModel",
     "state": {
      "_model_module": "@jupyter-widgets/controls",
      "_model_module_version": "1.5.0",
      "_model_name": "DescriptionStyleModel",
      "_view_count": null,
      "_view_module": "@jupyter-widgets/base",
      "_view_module_version": "1.2.0",
      "_view_name": "StyleView",
      "description_width": ""
     }
    },
    "88f93a7a972d4959972d18f033f4a514": {
     "model_module": "@jupyter-widgets/controls",
     "model_name": "HTMLModel",
     "state": {
      "_dom_classes": [],
      "_model_module": "@jupyter-widgets/controls",
      "_model_module_version": "1.5.0",
      "_model_name": "HTMLModel",
      "_view_count": null,
      "_view_module": "@jupyter-widgets/controls",
      "_view_module_version": "1.5.0",
      "_view_name": "HTMLView",
      "description": "",
      "description_tooltip": null,
      "layout": "IPY_MODEL_e48a72097f464106b110b963e0658b3a",
      "placeholder": "​",
      "style": "IPY_MODEL_8f38abc00f2b4d3e8039a749aa07549a",
      "value": " 5950/5950 [30:49&lt;00:00,  3.22it/s]"
     }
    },
    "892e9d7d43ac4d319f71270106fa2f56": {
     "model_module": "@jupyter-widgets/controls",
     "model_name": "HBoxModel",
     "state": {
      "_dom_classes": [],
      "_model_module": "@jupyter-widgets/controls",
      "_model_module_version": "1.5.0",
      "_model_name": "HBoxModel",
      "_view_count": null,
      "_view_module": "@jupyter-widgets/controls",
      "_view_module_version": "1.5.0",
      "_view_name": "HBoxView",
      "box_style": "",
      "children": [
       "IPY_MODEL_cdf81b263d2a4fedb2d6f0e72d549567",
       "IPY_MODEL_7aad7c80a12947a78f16fb87df8b723f"
      ],
      "layout": "IPY_MODEL_60feccfae9924810bedee359c8636ba6"
     }
    },
    "8cfe393e01574e5fa810ecb572f46d91": {
     "model_module": "@jupyter-widgets/controls",
     "model_name": "ProgressStyleModel",
     "state": {
      "_model_module": "@jupyter-widgets/controls",
      "_model_module_version": "1.5.0",
      "_model_name": "ProgressStyleModel",
      "_view_count": null,
      "_view_module": "@jupyter-widgets/base",
      "_view_module_version": "1.2.0",
      "_view_name": "StyleView",
      "bar_color": null,
      "description_width": "initial"
     }
    },
    "8e60e9628d4e4fcb95e038b8c9ecc7fb": {
     "model_module": "@jupyter-widgets/base",
     "model_name": "LayoutModel",
     "state": {
      "_model_module": "@jupyter-widgets/base",
      "_model_module_version": "1.2.0",
      "_model_name": "LayoutModel",
      "_view_count": null,
      "_view_module": "@jupyter-widgets/base",
      "_view_module_version": "1.2.0",
      "_view_name": "LayoutView",
      "align_content": null,
      "align_items": null,
      "align_self": null,
      "border": null,
      "bottom": null,
      "display": null,
      "flex": null,
      "flex_flow": null,
      "grid_area": null,
      "grid_auto_columns": null,
      "grid_auto_flow": null,
      "grid_auto_rows": null,
      "grid_column": null,
      "grid_gap": null,
      "grid_row": null,
      "grid_template_areas": null,
      "grid_template_columns": null,
      "grid_template_rows": null,
      "height": null,
      "justify_content": null,
      "justify_items": null,
      "left": null,
      "margin": null,
      "max_height": null,
      "max_width": null,
      "min_height": null,
      "min_width": null,
      "object_fit": null,
      "object_position": null,
      "order": null,
      "overflow": null,
      "overflow_x": null,
      "overflow_y": null,
      "padding": null,
      "right": null,
      "top": null,
      "visibility": null,
      "width": null
     }
    },
    "8f38abc00f2b4d3e8039a749aa07549a": {
     "model_module": "@jupyter-widgets/controls",
     "model_name": "DescriptionStyleModel",
     "state": {
      "_model_module": "@jupyter-widgets/controls",
      "_model_module_version": "1.5.0",
      "_model_name": "DescriptionStyleModel",
      "_view_count": null,
      "_view_module": "@jupyter-widgets/base",
      "_view_module_version": "1.2.0",
      "_view_name": "StyleView",
      "description_width": ""
     }
    },
    "9b1b7f91cfb54cc3be931c1c68e83aba": {
     "model_module": "@jupyter-widgets/controls",
     "model_name": "DescriptionStyleModel",
     "state": {
      "_model_module": "@jupyter-widgets/controls",
      "_model_module_version": "1.5.0",
      "_model_name": "DescriptionStyleModel",
      "_view_count": null,
      "_view_module": "@jupyter-widgets/base",
      "_view_module_version": "1.2.0",
      "_view_name": "StyleView",
      "description_width": ""
     }
    },
    "9ddd8b7e0ccc492c859abb97185c01be": {
     "model_module": "@jupyter-widgets/base",
     "model_name": "LayoutModel",
     "state": {
      "_model_module": "@jupyter-widgets/base",
      "_model_module_version": "1.2.0",
      "_model_name": "LayoutModel",
      "_view_count": null,
      "_view_module": "@jupyter-widgets/base",
      "_view_module_version": "1.2.0",
      "_view_name": "LayoutView",
      "align_content": null,
      "align_items": null,
      "align_self": null,
      "border": null,
      "bottom": null,
      "display": null,
      "flex": null,
      "flex_flow": null,
      "grid_area": null,
      "grid_auto_columns": null,
      "grid_auto_flow": null,
      "grid_auto_rows": null,
      "grid_column": null,
      "grid_gap": null,
      "grid_row": null,
      "grid_template_areas": null,
      "grid_template_columns": null,
      "grid_template_rows": null,
      "height": null,
      "justify_content": null,
      "justify_items": null,
      "left": null,
      "margin": null,
      "max_height": null,
      "max_width": null,
      "min_height": null,
      "min_width": null,
      "object_fit": null,
      "object_position": null,
      "order": null,
      "overflow": null,
      "overflow_x": null,
      "overflow_y": null,
      "padding": null,
      "right": null,
      "top": null,
      "visibility": null,
      "width": null
     }
    },
    "9e34ed59bb58411497885201ba8568b0": {
     "model_module": "@jupyter-widgets/controls",
     "model_name": "HBoxModel",
     "state": {
      "_dom_classes": [],
      "_model_module": "@jupyter-widgets/controls",
      "_model_module_version": "1.5.0",
      "_model_name": "HBoxModel",
      "_view_count": null,
      "_view_module": "@jupyter-widgets/controls",
      "_view_module_version": "1.5.0",
      "_view_name": "HBoxView",
      "box_style": "",
      "children": [
       "IPY_MODEL_b004a5f6fb3242718b0ba88a0091544e",
       "IPY_MODEL_322996f04f2c4c07aefc3ecaeb294bcf"
      ],
      "layout": "IPY_MODEL_7c078537eca84b85aae0ccb1e32027e9"
     }
    },
    "a185e21c3d4543ab90396302fa724647": {
     "model_module": "@jupyter-widgets/controls",
     "model_name": "ProgressStyleModel",
     "state": {
      "_model_module": "@jupyter-widgets/controls",
      "_model_module_version": "1.5.0",
      "_model_name": "ProgressStyleModel",
      "_view_count": null,
      "_view_module": "@jupyter-widgets/base",
      "_view_module_version": "1.2.0",
      "_view_name": "StyleView",
      "bar_color": null,
      "description_width": "initial"
     }
    },
    "a3db468c43b94d4187c43d1b56af5e6d": {
     "model_module": "@jupyter-widgets/controls",
     "model_name": "ProgressStyleModel",
     "state": {
      "_model_module": "@jupyter-widgets/controls",
      "_model_module_version": "1.5.0",
      "_model_name": "ProgressStyleModel",
      "_view_count": null,
      "_view_module": "@jupyter-widgets/base",
      "_view_module_version": "1.2.0",
      "_view_name": "StyleView",
      "bar_color": null,
      "description_width": "initial"
     }
    },
    "b004a5f6fb3242718b0ba88a0091544e": {
     "model_module": "@jupyter-widgets/controls",
     "model_name": "FloatProgressModel",
     "state": {
      "_dom_classes": [],
      "_model_module": "@jupyter-widgets/controls",
      "_model_module_version": "1.5.0",
      "_model_name": "FloatProgressModel",
      "_view_count": null,
      "_view_module": "@jupyter-widgets/controls",
      "_view_module_version": "1.5.0",
      "_view_name": "ProgressView",
      "bar_style": "success",
      "description": "100%",
      "description_tooltip": null,
      "layout": "IPY_MODEL_7c83c02c7fa64084bce3bce7e6faf28a",
      "max": 23802,
      "min": 0,
      "orientation": "horizontal",
      "style": "IPY_MODEL_a185e21c3d4543ab90396302fa724647",
      "value": 23802
     }
    },
    "b12cb64053d842d38fd6ead41c82db55": {
     "model_module": "@jupyter-widgets/controls",
     "model_name": "HBoxModel",
     "state": {
      "_dom_classes": [],
      "_model_module": "@jupyter-widgets/controls",
      "_model_module_version": "1.5.0",
      "_model_name": "HBoxModel",
      "_view_count": null,
      "_view_module": "@jupyter-widgets/controls",
      "_view_module_version": "1.5.0",
      "_view_name": "HBoxView",
      "box_style": "",
      "children": [
       "IPY_MODEL_b633c3d45c8a4403ad182d3f7f002ef1",
       "IPY_MODEL_5f12b40490534661860f8695dc399be1"
      ],
      "layout": "IPY_MODEL_7a41faee812d4244855e2f953ffd59f5"
     }
    },
    "b214f90fcafc4cca8c694697d3a9c935": {
     "model_module": "@jupyter-widgets/base",
     "model_name": "LayoutModel",
     "state": {
      "_model_module": "@jupyter-widgets/base",
      "_model_module_version": "1.2.0",
      "_model_name": "LayoutModel",
      "_view_count": null,
      "_view_module": "@jupyter-widgets/base",
      "_view_module_version": "1.2.0",
      "_view_name": "LayoutView",
      "align_content": null,
      "align_items": null,
      "align_self": null,
      "border": null,
      "bottom": null,
      "display": null,
      "flex": null,
      "flex_flow": null,
      "grid_area": null,
      "grid_auto_columns": null,
      "grid_auto_flow": null,
      "grid_auto_rows": null,
      "grid_column": null,
      "grid_gap": null,
      "grid_row": null,
      "grid_template_areas": null,
      "grid_template_columns": null,
      "grid_template_rows": null,
      "height": null,
      "justify_content": null,
      "justify_items": null,
      "left": null,
      "margin": null,
      "max_height": null,
      "max_width": null,
      "min_height": null,
      "min_width": null,
      "object_fit": null,
      "object_position": null,
      "order": null,
      "overflow": null,
      "overflow_x": null,
      "overflow_y": null,
      "padding": null,
      "right": null,
      "top": null,
      "visibility": null,
      "width": null
     }
    },
    "b27515bcf1e5438191573c170abcd954": {
     "model_module": "@jupyter-widgets/controls",
     "model_name": "FloatProgressModel",
     "state": {
      "_dom_classes": [],
      "_model_module": "@jupyter-widgets/controls",
      "_model_module_version": "1.5.0",
      "_model_name": "FloatProgressModel",
      "_view_count": null,
      "_view_module": "@jupyter-widgets/controls",
      "_view_module_version": "1.5.0",
      "_view_name": "ProgressView",
      "bar_style": "success",
      "description": "100%",
      "description_tooltip": null,
      "layout": "IPY_MODEL_6806000db46349fcbe165afbcc2a43bd",
      "max": 5950,
      "min": 0,
      "orientation": "horizontal",
      "style": "IPY_MODEL_1234bbe2ae46418e885a82ce4258bb6b",
      "value": 5950
     }
    },
    "b27966b4967d46ebb4d71371704a1097": {
     "model_module": "@jupyter-widgets/base",
     "model_name": "LayoutModel",
     "state": {
      "_model_module": "@jupyter-widgets/base",
      "_model_module_version": "1.2.0",
      "_model_name": "LayoutModel",
      "_view_count": null,
      "_view_module": "@jupyter-widgets/base",
      "_view_module_version": "1.2.0",
      "_view_name": "LayoutView",
      "align_content": null,
      "align_items": null,
      "align_self": null,
      "border": null,
      "bottom": null,
      "display": null,
      "flex": null,
      "flex_flow": null,
      "grid_area": null,
      "grid_auto_columns": null,
      "grid_auto_flow": null,
      "grid_auto_rows": null,
      "grid_column": null,
      "grid_gap": null,
      "grid_row": null,
      "grid_template_areas": null,
      "grid_template_columns": null,
      "grid_template_rows": null,
      "height": null,
      "justify_content": null,
      "justify_items": null,
      "left": null,
      "margin": null,
      "max_height": null,
      "max_width": null,
      "min_height": null,
      "min_width": null,
      "object_fit": null,
      "object_position": null,
      "order": null,
      "overflow": null,
      "overflow_x": null,
      "overflow_y": null,
      "padding": null,
      "right": null,
      "top": null,
      "visibility": null,
      "width": null
     }
    },
    "b3abb6b0963e4186b02ed397e6427937": {
     "model_module": "@jupyter-widgets/base",
     "model_name": "LayoutModel",
     "state": {
      "_model_module": "@jupyter-widgets/base",
      "_model_module_version": "1.2.0",
      "_model_name": "LayoutModel",
      "_view_count": null,
      "_view_module": "@jupyter-widgets/base",
      "_view_module_version": "1.2.0",
      "_view_name": "LayoutView",
      "align_content": null,
      "align_items": null,
      "align_self": null,
      "border": null,
      "bottom": null,
      "display": null,
      "flex": null,
      "flex_flow": null,
      "grid_area": null,
      "grid_auto_columns": null,
      "grid_auto_flow": null,
      "grid_auto_rows": null,
      "grid_column": null,
      "grid_gap": null,
      "grid_row": null,
      "grid_template_areas": null,
      "grid_template_columns": null,
      "grid_template_rows": null,
      "height": null,
      "justify_content": null,
      "justify_items": null,
      "left": null,
      "margin": null,
      "max_height": null,
      "max_width": null,
      "min_height": null,
      "min_width": null,
      "object_fit": null,
      "object_position": null,
      "order": null,
      "overflow": null,
      "overflow_x": null,
      "overflow_y": null,
      "padding": null,
      "right": null,
      "top": null,
      "visibility": null,
      "width": null
     }
    },
    "b5155b31da344069a5687207b858212e": {
     "model_module": "@jupyter-widgets/base",
     "model_name": "LayoutModel",
     "state": {
      "_model_module": "@jupyter-widgets/base",
      "_model_module_version": "1.2.0",
      "_model_name": "LayoutModel",
      "_view_count": null,
      "_view_module": "@jupyter-widgets/base",
      "_view_module_version": "1.2.0",
      "_view_name": "LayoutView",
      "align_content": null,
      "align_items": null,
      "align_self": null,
      "border": null,
      "bottom": null,
      "display": null,
      "flex": null,
      "flex_flow": null,
      "grid_area": null,
      "grid_auto_columns": null,
      "grid_auto_flow": null,
      "grid_auto_rows": null,
      "grid_column": null,
      "grid_gap": null,
      "grid_row": null,
      "grid_template_areas": null,
      "grid_template_columns": null,
      "grid_template_rows": null,
      "height": null,
      "justify_content": null,
      "justify_items": null,
      "left": null,
      "margin": null,
      "max_height": null,
      "max_width": null,
      "min_height": null,
      "min_width": null,
      "object_fit": null,
      "object_position": null,
      "order": null,
      "overflow": null,
      "overflow_x": null,
      "overflow_y": null,
      "padding": null,
      "right": null,
      "top": null,
      "visibility": null,
      "width": null
     }
    },
    "b633c3d45c8a4403ad182d3f7f002ef1": {
     "model_module": "@jupyter-widgets/controls",
     "model_name": "FloatProgressModel",
     "state": {
      "_dom_classes": [],
      "_model_module": "@jupyter-widgets/controls",
      "_model_module_version": "1.5.0",
      "_model_name": "FloatProgressModel",
      "_view_count": null,
      "_view_module": "@jupyter-widgets/controls",
      "_view_module_version": "1.5.0",
      "_view_name": "ProgressView",
      "bar_style": "success",
      "description": "100%",
      "description_tooltip": null,
      "layout": "IPY_MODEL_bb76a0bb5dd74951ae8d8e905fe14bbe",
      "max": 23802,
      "min": 0,
      "orientation": "horizontal",
      "style": "IPY_MODEL_01bbe15f508447939d161f7d0d092091",
      "value": 23802
     }
    },
    "baaa491c340741d2b9de1eafef70a7fc": {
     "model_module": "@jupyter-widgets/controls",
     "model_name": "HBoxModel",
     "state": {
      "_dom_classes": [],
      "_model_module": "@jupyter-widgets/controls",
      "_model_module_version": "1.5.0",
      "_model_name": "HBoxModel",
      "_view_count": null,
      "_view_module": "@jupyter-widgets/controls",
      "_view_module_version": "1.5.0",
      "_view_name": "HBoxView",
      "box_style": "",
      "children": [
       "IPY_MODEL_78a28b52b02a40d690ee302d9788559b",
       "IPY_MODEL_1a339d36c1ad4ebebf44ee491b2ce73d"
      ],
      "layout": "IPY_MODEL_ff25c30b18bc4d0885d8fcde39da1152"
     }
    },
    "bafaa11a05124cadaf19211196664d6e": {
     "model_module": "@jupyter-widgets/controls",
     "model_name": "HTMLModel",
     "state": {
      "_dom_classes": [],
      "_model_module": "@jupyter-widgets/controls",
      "_model_module_version": "1.5.0",
      "_model_name": "HTMLModel",
      "_view_count": null,
      "_view_module": "@jupyter-widgets/controls",
      "_view_module_version": "1.5.0",
      "_view_name": "HTMLView",
      "description": "",
      "description_tooltip": null,
      "layout": "IPY_MODEL_cf09e830a8934f12b3141725704ebd42",
      "placeholder": "​",
      "style": "IPY_MODEL_08db9b67bef24f4c95186436ee0d03db",
      "value": " 5950/5950 [06:08&lt;00:00, 16.13it/s]"
     }
    },
    "bb76a0bb5dd74951ae8d8e905fe14bbe": {
     "model_module": "@jupyter-widgets/base",
     "model_name": "LayoutModel",
     "state": {
      "_model_module": "@jupyter-widgets/base",
      "_model_module_version": "1.2.0",
      "_model_name": "LayoutModel",
      "_view_count": null,
      "_view_module": "@jupyter-widgets/base",
      "_view_module_version": "1.2.0",
      "_view_name": "LayoutView",
      "align_content": null,
      "align_items": null,
      "align_self": null,
      "border": null,
      "bottom": null,
      "display": null,
      "flex": null,
      "flex_flow": null,
      "grid_area": null,
      "grid_auto_columns": null,
      "grid_auto_flow": null,
      "grid_auto_rows": null,
      "grid_column": null,
      "grid_gap": null,
      "grid_row": null,
      "grid_template_areas": null,
      "grid_template_columns": null,
      "grid_template_rows": null,
      "height": null,
      "justify_content": null,
      "justify_items": null,
      "left": null,
      "margin": null,
      "max_height": null,
      "max_width": null,
      "min_height": null,
      "min_width": null,
      "object_fit": null,
      "object_position": null,
      "order": null,
      "overflow": null,
      "overflow_x": null,
      "overflow_y": null,
      "padding": null,
      "right": null,
      "top": null,
      "visibility": null,
      "width": null
     }
    },
    "c17058b946dd47f6a0ae744e89ac94ab": {
     "model_module": "@jupyter-widgets/controls",
     "model_name": "ProgressStyleModel",
     "state": {
      "_model_module": "@jupyter-widgets/controls",
      "_model_module_version": "1.5.0",
      "_model_name": "ProgressStyleModel",
      "_view_count": null,
      "_view_module": "@jupyter-widgets/base",
      "_view_module_version": "1.2.0",
      "_view_name": "StyleView",
      "bar_color": null,
      "description_width": "initial"
     }
    },
    "cdf81b263d2a4fedb2d6f0e72d549567": {
     "model_module": "@jupyter-widgets/controls",
     "model_name": "FloatProgressModel",
     "state": {
      "_dom_classes": [],
      "_model_module": "@jupyter-widgets/controls",
      "_model_module_version": "1.5.0",
      "_model_name": "FloatProgressModel",
      "_view_count": null,
      "_view_module": "@jupyter-widgets/controls",
      "_view_module_version": "1.5.0",
      "_view_name": "ProgressView",
      "bar_style": "success",
      "description": "100%",
      "description_tooltip": null,
      "layout": "IPY_MODEL_553f86828f944c4e97ae99345f6e8388",
      "max": 5950,
      "min": 0,
      "orientation": "horizontal",
      "style": "IPY_MODEL_c17058b946dd47f6a0ae744e89ac94ab",
      "value": 5950
     }
    },
    "cf09e830a8934f12b3141725704ebd42": {
     "model_module": "@jupyter-widgets/base",
     "model_name": "LayoutModel",
     "state": {
      "_model_module": "@jupyter-widgets/base",
      "_model_module_version": "1.2.0",
      "_model_name": "LayoutModel",
      "_view_count": null,
      "_view_module": "@jupyter-widgets/base",
      "_view_module_version": "1.2.0",
      "_view_name": "LayoutView",
      "align_content": null,
      "align_items": null,
      "align_self": null,
      "border": null,
      "bottom": null,
      "display": null,
      "flex": null,
      "flex_flow": null,
      "grid_area": null,
      "grid_auto_columns": null,
      "grid_auto_flow": null,
      "grid_auto_rows": null,
      "grid_column": null,
      "grid_gap": null,
      "grid_row": null,
      "grid_template_areas": null,
      "grid_template_columns": null,
      "grid_template_rows": null,
      "height": null,
      "justify_content": null,
      "justify_items": null,
      "left": null,
      "margin": null,
      "max_height": null,
      "max_width": null,
      "min_height": null,
      "min_width": null,
      "object_fit": null,
      "object_position": null,
      "order": null,
      "overflow": null,
      "overflow_x": null,
      "overflow_y": null,
      "padding": null,
      "right": null,
      "top": null,
      "visibility": null,
      "width": null
     }
    },
    "d1594daa1a414166b73b9f8461cf9a31": {
     "model_module": "@jupyter-widgets/controls",
     "model_name": "HBoxModel",
     "state": {
      "_dom_classes": [],
      "_model_module": "@jupyter-widgets/controls",
      "_model_module_version": "1.5.0",
      "_model_name": "HBoxModel",
      "_view_count": null,
      "_view_module": "@jupyter-widgets/controls",
      "_view_module_version": "1.5.0",
      "_view_name": "HBoxView",
      "box_style": "",
      "children": [
       "IPY_MODEL_4a5dc916449d4b9aac7e4757c0b04ada",
       "IPY_MODEL_4db751019200481c8677dff7b44617d0"
      ],
      "layout": "IPY_MODEL_b3abb6b0963e4186b02ed397e6427937"
     }
    },
    "e48a72097f464106b110b963e0658b3a": {
     "model_module": "@jupyter-widgets/base",
     "model_name": "LayoutModel",
     "state": {
      "_model_module": "@jupyter-widgets/base",
      "_model_module_version": "1.2.0",
      "_model_name": "LayoutModel",
      "_view_count": null,
      "_view_module": "@jupyter-widgets/base",
      "_view_module_version": "1.2.0",
      "_view_name": "LayoutView",
      "align_content": null,
      "align_items": null,
      "align_self": null,
      "border": null,
      "bottom": null,
      "display": null,
      "flex": null,
      "flex_flow": null,
      "grid_area": null,
      "grid_auto_columns": null,
      "grid_auto_flow": null,
      "grid_auto_rows": null,
      "grid_column": null,
      "grid_gap": null,
      "grid_row": null,
      "grid_template_areas": null,
      "grid_template_columns": null,
      "grid_template_rows": null,
      "height": null,
      "justify_content": null,
      "justify_items": null,
      "left": null,
      "margin": null,
      "max_height": null,
      "max_width": null,
      "min_height": null,
      "min_width": null,
      "object_fit": null,
      "object_position": null,
      "order": null,
      "overflow": null,
      "overflow_x": null,
      "overflow_y": null,
      "padding": null,
      "right": null,
      "top": null,
      "visibility": null,
      "width": null
     }
    },
    "ea7f47fac7184e15aef8c23cb90d1340": {
     "model_module": "@jupyter-widgets/base",
     "model_name": "LayoutModel",
     "state": {
      "_model_module": "@jupyter-widgets/base",
      "_model_module_version": "1.2.0",
      "_model_name": "LayoutModel",
      "_view_count": null,
      "_view_module": "@jupyter-widgets/base",
      "_view_module_version": "1.2.0",
      "_view_name": "LayoutView",
      "align_content": null,
      "align_items": null,
      "align_self": null,
      "border": null,
      "bottom": null,
      "display": null,
      "flex": null,
      "flex_flow": null,
      "grid_area": null,
      "grid_auto_columns": null,
      "grid_auto_flow": null,
      "grid_auto_rows": null,
      "grid_column": null,
      "grid_gap": null,
      "grid_row": null,
      "grid_template_areas": null,
      "grid_template_columns": null,
      "grid_template_rows": null,
      "height": null,
      "justify_content": null,
      "justify_items": null,
      "left": null,
      "margin": null,
      "max_height": null,
      "max_width": null,
      "min_height": null,
      "min_width": null,
      "object_fit": null,
      "object_position": null,
      "order": null,
      "overflow": null,
      "overflow_x": null,
      "overflow_y": null,
      "padding": null,
      "right": null,
      "top": null,
      "visibility": null,
      "width": null
     }
    },
    "ec284cbe762d47b585838b944dc5c922": {
     "model_module": "@jupyter-widgets/base",
     "model_name": "LayoutModel",
     "state": {
      "_model_module": "@jupyter-widgets/base",
      "_model_module_version": "1.2.0",
      "_model_name": "LayoutModel",
      "_view_count": null,
      "_view_module": "@jupyter-widgets/base",
      "_view_module_version": "1.2.0",
      "_view_name": "LayoutView",
      "align_content": null,
      "align_items": null,
      "align_self": null,
      "border": null,
      "bottom": null,
      "display": null,
      "flex": null,
      "flex_flow": null,
      "grid_area": null,
      "grid_auto_columns": null,
      "grid_auto_flow": null,
      "grid_auto_rows": null,
      "grid_column": null,
      "grid_gap": null,
      "grid_row": null,
      "grid_template_areas": null,
      "grid_template_columns": null,
      "grid_template_rows": null,
      "height": null,
      "justify_content": null,
      "justify_items": null,
      "left": null,
      "margin": null,
      "max_height": null,
      "max_width": null,
      "min_height": null,
      "min_width": null,
      "object_fit": null,
      "object_position": null,
      "order": null,
      "overflow": null,
      "overflow_x": null,
      "overflow_y": null,
      "padding": null,
      "right": null,
      "top": null,
      "visibility": null,
      "width": null
     }
    },
    "fa362dc6e9474711a2ff3d9cb10f5139": {
     "model_module": "@jupyter-widgets/controls",
     "model_name": "FloatProgressModel",
     "state": {
      "_dom_classes": [],
      "_model_module": "@jupyter-widgets/controls",
      "_model_module_version": "1.5.0",
      "_model_name": "FloatProgressModel",
      "_view_count": null,
      "_view_module": "@jupyter-widgets/controls",
      "_view_module_version": "1.5.0",
      "_view_name": "ProgressView",
      "bar_style": "success",
      "description": "100%",
      "description_tooltip": null,
      "layout": "IPY_MODEL_7d1ab512020e4f7fb28a6d6b33a1694e",
      "max": 5950,
      "min": 0,
      "orientation": "horizontal",
      "style": "IPY_MODEL_fac5954ff9884bc896ac89fe69c162f3",
      "value": 5950
     }
    },
    "fac5954ff9884bc896ac89fe69c162f3": {
     "model_module": "@jupyter-widgets/controls",
     "model_name": "ProgressStyleModel",
     "state": {
      "_model_module": "@jupyter-widgets/controls",
      "_model_module_version": "1.5.0",
      "_model_name": "ProgressStyleModel",
      "_view_count": null,
      "_view_module": "@jupyter-widgets/base",
      "_view_module_version": "1.2.0",
      "_view_name": "StyleView",
      "bar_color": null,
      "description_width": "initial"
     }
    },
    "ff25c30b18bc4d0885d8fcde39da1152": {
     "model_module": "@jupyter-widgets/base",
     "model_name": "LayoutModel",
     "state": {
      "_model_module": "@jupyter-widgets/base",
      "_model_module_version": "1.2.0",
      "_model_name": "LayoutModel",
      "_view_count": null,
      "_view_module": "@jupyter-widgets/base",
      "_view_module_version": "1.2.0",
      "_view_name": "LayoutView",
      "align_content": null,
      "align_items": null,
      "align_self": null,
      "border": null,
      "bottom": null,
      "display": null,
      "flex": null,
      "flex_flow": null,
      "grid_area": null,
      "grid_auto_columns": null,
      "grid_auto_flow": null,
      "grid_auto_rows": null,
      "grid_column": null,
      "grid_gap": null,
      "grid_row": null,
      "grid_template_areas": null,
      "grid_template_columns": null,
      "grid_template_rows": null,
      "height": null,
      "justify_content": null,
      "justify_items": null,
      "left": null,
      "margin": null,
      "max_height": null,
      "max_width": null,
      "min_height": null,
      "min_width": null,
      "object_fit": null,
      "object_position": null,
      "order": null,
      "overflow": null,
      "overflow_x": null,
      "overflow_y": null,
      "padding": null,
      "right": null,
      "top": null,
      "visibility": null,
      "width": null
     }
    }
   }
  }
 },
 "nbformat": 4,
 "nbformat_minor": 1
}
